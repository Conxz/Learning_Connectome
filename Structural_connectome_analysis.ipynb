{
 "cells": [
  {
   "cell_type": "markdown",
   "metadata": {},
   "source": [
    "# Association between structural brain organisation and Maths and Reading abilities in children"
   ]
  },
  {
   "cell_type": "markdown",
   "metadata": {},
   "source": [
    "## Loading the required python modules"
   ]
  },
  {
   "cell_type": "code",
   "execution_count": 17,
   "metadata": {
    "collapsed": false
   },
   "outputs": [
    {
     "name": "stdout",
     "output_type": "stream",
     "text": [
      "Populating the interactive namespace from numpy and matplotlib\n"
     ]
    }
   ],
   "source": [
    "from IPython.display import display\n",
    "from ipywidgets import FloatProgress\n",
    "import warnings\n",
    "warnings.filterwarnings('ignore')\n",
    "%pylab inline"
   ]
  },
  {
   "cell_type": "code",
   "execution_count": 18,
   "metadata": {
    "collapsed": false
   },
   "outputs": [],
   "source": [
    "import pandas as pd\n",
    "pd.set_option('display.max_rows', 20)\n",
    "from scipy import stats  \n",
    "import bct\n",
    "import os \n",
    "import numpy as np\n",
    "import networkx as nx\n",
    "from nilearn import plotting\n",
    "from sklearn.preprocessing import StandardScaler\n",
    "import seaborn as sns\n",
    "from statsmodels.formula.api import ols\n",
    "from scipy.stats import ttest_rel, ttest_ind\n",
    "import matplotlib.pyplot as plt\n",
    "plt.style.use(['seaborn-paper', 'seaborn-colorblind'])"
   ]
  },
  {
   "cell_type": "markdown",
   "metadata": {},
   "source": [
    "Setting figure aestethics to match journal style"
   ]
  },
  {
   "cell_type": "code",
   "execution_count": 19,
   "metadata": {
    "collapsed": true
   },
   "outputs": [],
   "source": [
    "from matplotlib import rcParams  \n",
    "rcParams['font.family'] = 'serif'  \n",
    "rcParams['font.serif'] = ['Computer Modern Unicode']  \n",
    "rcParams['text.usetex'] = True  \n",
    "rcParams['axes.labelsize'] = 9  \n",
    "rcParams['xtick.labelsize'] = 9  \n",
    "rcParams['ytick.labelsize'] = 9  \n",
    "rcParams['legend.fontsize'] = 9  \n",
    "mm2inches = 0.039371\n",
    "single_column = 90*mm2inches\n",
    "double_column = 190*mm2inches\n",
    "one_half_column = 140*mm2inches"
   ]
  },
  {
   "cell_type": "markdown",
   "metadata": {},
   "source": [
    "Path to save result figures:"
   ]
  },
  {
   "cell_type": "code",
   "execution_count": 7,
   "metadata": {
    "collapsed": true
   },
   "outputs": [],
   "source": [
    "outpath = '/imaging/jb07/CALM/DWI/FA_connectome/result_figures/'"
   ]
  },
  {
   "cell_type": "markdown",
   "metadata": {},
   "source": [
    "## Preprocessing steps"
   ]
  },
  {
   "cell_type": "markdown",
   "metadata": {},
   "source": [
    "First, data is loaded and a tidy data frame is created with all the relevant variables and only complete cases"
   ]
  },
  {
   "cell_type": "code",
   "execution_count": 8,
   "metadata": {
    "collapsed": true
   },
   "outputs": [],
   "source": [
    "def get_subject_behavioural_data(subject):\n",
    "    import json\n",
    "    behavioural = eval(open('/imaging/jb07/CALM/CALM_BIDS/' + subject + '/beh/' + subject + '_beh.txt', 'r').read().replace(\"NaN\",\"float('nan')\").replace(\"null\",\"float('nan')\"))\n",
    "    behavioural.update(eval(open('/imaging/jb07/CALM/CALM_BIDS/' + subject + '/' + subject + '_demographics.txt', 'r').read().replace(\"NaN\",\"float('nan')\").replace(\"null\",\"float('nan')\")))\n",
    "\n",
    "    return behavioural"
   ]
  },
  {
   "cell_type": "code",
   "execution_count": 12,
   "metadata": {
    "collapsed": false
   },
   "outputs": [],
   "source": [
    "# Setting up the progress bar\n",
    "w = FloatProgress(value=0, min=0, max=100, step=0.1, description='Progress:')\n",
    "display(w)\n",
    "counter = 0\n",
    "\n",
    "folder = '/imaging/jb07/CALM/DWI/FA_connectome/'\n",
    "df = pd.DataFrame()\n",
    "in_files = [folder + subfolder + '/calc_matrix/coreg_tracks_FA_matrix.txt' for subfolder in os.listdir(folder) if os.path.isfile(folder + subfolder + '/calc_matrix/coreg_tracks_FA_matrix.txt')]\n",
    "networks = list()\n",
    "subjects = list()\n",
    "\n",
    "# Getting all the datab\n",
    "for subfolder in os.listdir(folder):\n",
    "    if os.path.isfile(folder + subfolder + '/calc_matrix/coreg_tracks_FA_matrix.txt'):\n",
    "        subject = subfolder.split('_')[-1]\n",
    "        \n",
    "        # Getting behavioural measures\n",
    "        df.set_value(subject,'age', get_subject_behavioural_data(subject)['Age_in_months'])\n",
    "        df.set_value(subject, 'Gender', get_subject_behavioural_data(subject)['Gender'])\n",
    "        df.set_value(subject, 'Maths', get_subject_behavioural_data(subject)['WIAT_Numerical_raw'])\n",
    "        df.set_value(subject, 'Reading', get_subject_behavioural_data(subject)['WIAT_Reading_Raw'])\n",
    "        \n",
    "        df.set_value(subject, 'Maths_std', get_subject_behavioural_data(subject)['WIAT_Numerical_Std'])\n",
    "        df.set_value(subject, 'Reading_std', get_subject_behavioural_data(subject)['WIAT_Reading_Std'])\n",
    "\n",
    "        # Getting graph measures\n",
    "        data = np.loadtxt(folder + subfolder + '/calc_matrix/coreg_tracks_FA_matrix.txt')\n",
    "        networks.append(data[1:,1:])\n",
    "        subjects.append(subject)\n",
    "        \n",
    "        # Progress bar\n",
    "        counter += 1\n",
    "        w.value = 100*(float(counter)/len(in_files))\n",
    "w.close()"
   ]
  },
  {
   "cell_type": "code",
   "execution_count": 13,
   "metadata": {
    "collapsed": false
   },
   "outputs": [
    {
     "name": "stdout",
     "output_type": "stream",
     "text": [
      "Number of children with complete MRI:116\n"
     ]
    }
   ],
   "source": [
    "print('Number of children with complete MRI:' + str(len(df)))"
   ]
  },
  {
   "cell_type": "markdown",
   "metadata": {},
   "source": [
    "Removing missing values"
   ]
  },
  {
   "cell_type": "code",
   "execution_count": 14,
   "metadata": {
    "collapsed": true
   },
   "outputs": [],
   "source": [
    "df = df.replace(999,float('nan'))\n",
    "df = df.dropna()"
   ]
  },
  {
   "cell_type": "markdown",
   "metadata": {},
   "source": [
    "Forcing numerical variables to numeric"
   ]
  },
  {
   "cell_type": "code",
   "execution_count": 15,
   "metadata": {
    "collapsed": false
   },
   "outputs": [],
   "source": [
    "df['age'] = df['age'].apply(lambda x: pd.to_numeric(x, errors='coerce'))\n",
    "df['Maths'] = df['Maths'].apply(lambda x: pd.to_numeric(x, errors='coerce'))\n",
    "df['Reading'] = df['Reading'].apply(lambda x: pd.to_numeric(x, errors='coerce'))\n",
    "df['Maths_std'] = df['Maths_std'].apply(lambda x: pd.to_numeric(x, errors='coerce'))\n",
    "df['Reading_std'] = df['Reading_std'].apply(lambda x: pd.to_numeric(x, errors='coerce'))"
   ]
  },
  {
   "cell_type": "code",
   "execution_count": 16,
   "metadata": {
    "collapsed": false
   },
   "outputs": [
    {
     "name": "stdout",
     "output_type": "stream",
     "text": [
      "Number of children with complete behavioural data:77\n"
     ]
    }
   ],
   "source": [
    "print('Number of children with complete behavioural data:' + str(len(df)))"
   ]
  },
  {
   "cell_type": "markdown",
   "metadata": {},
   "source": [
    "Getting intracranial volume and movement parameters"
   ]
  },
  {
   "cell_type": "code",
   "execution_count": 17,
   "metadata": {
    "collapsed": false
   },
   "outputs": [],
   "source": [
    "ICV = pd.read_csv('/imaging/jb07/CALM/T1/volume_results.csv')\n",
    "ICV['ICV'] = ICV['GM_volume_0'].values*ICV['GM_volume_2'] + ICV['WM_volume_0'].values*ICV['WM_volume_2']\n",
    "ICV = ICV[['MRI.ID','ICV']].set_index(['MRI.ID'])\n",
    "df = pd.merge(df, ICV, left_index=True, right_index=True)"
   ]
  },
  {
   "cell_type": "code",
   "execution_count": 18,
   "metadata": {
    "collapsed": false
   },
   "outputs": [],
   "source": [
    "movement = pd.read_csv('/imaging/jb07/CALM/DWI/motion_estimation/Displacements_Results.csv')\n",
    "movement.columns = ['MRI.ID','Displacement']\n",
    "df = pd.merge(df, movement.set_index(['MRI.ID']), left_index=True, right_index=True)\n",
    "df = df[df['Displacement'] < 3]"
   ]
  },
  {
   "cell_type": "code",
   "execution_count": 19,
   "metadata": {
    "collapsed": false
   },
   "outputs": [
    {
     "name": "stdout",
     "output_type": "stream",
     "text": [
      "Number of complete datasets: 57\n"
     ]
    }
   ],
   "source": [
    "print('Number of complete datasets: ' + str(len(df)))"
   ]
  },
  {
   "cell_type": "markdown",
   "metadata": {},
   "source": [
    "#### Sample characteristics"
   ]
  },
  {
   "cell_type": "code",
   "execution_count": 20,
   "metadata": {
    "collapsed": false
   },
   "outputs": [
    {
     "name": "stdout",
     "output_type": "stream",
     "text": [
      "Number female: 22\n",
      "Age: mean=9.22 std=2.091\n"
     ]
    }
   ],
   "source": [
    "print('Number female: ' + str(df['Gender'].value_counts()[1]))\n",
    "print('Age: mean=' + str(round(df['age'].mean()/12,2)) + ' std=' + str(round(df['age'].std()/12,3)))"
   ]
  },
  {
   "cell_type": "markdown",
   "metadata": {},
   "source": [
    "### Getting the graph theory measures for the useable datasets"
   ]
  },
  {
   "cell_type": "code",
   "execution_count": 21,
   "metadata": {
    "collapsed": false
   },
   "outputs": [],
   "source": [
    "# Removing the networks that were rejected\n",
    "retain = list()\n",
    "for subject in subjects:\n",
    "    if subject in df.index.values: \n",
    "        retain.append(True)\n",
    "    else:\n",
    "        retain.append(False)\n",
    "        \n",
    "networks = np.rollaxis(np.asarray(networks), 0, 3)\n",
    "networks = networks[...,np.asarray(retain)]\n",
    "subjects = np.asarray(subjects)[np.where(retain)]"
   ]
  },
  {
   "cell_type": "markdown",
   "metadata": {},
   "source": [
    "Consensus thresholding of the dataset"
   ]
  },
  {
   "cell_type": "code",
   "execution_count": 298,
   "metadata": {
    "collapsed": false
   },
   "outputs": [],
   "source": [
    "from connectome_utils import consensus_thresholding\n",
    "consensus_matrices = consensus_thresholding(networks, 0.6)"
   ]
  },
  {
   "cell_type": "markdown",
   "metadata": {},
   "source": [
    "Calculating the graph metrics"
   ]
  },
  {
   "cell_type": "code",
   "execution_count": 299,
   "metadata": {
    "collapsed": false
   },
   "outputs": [],
   "source": [
    "graph_df = pd.DataFrame()\n",
    "\n",
    "# Setting up the progress bar\n",
    "w = FloatProgress(value=0, min=0, max=100, step=0.1, description='Progress:')\n",
    "display(w)\n",
    "counter = 0\n",
    "\n",
    "for i in range(0, consensus_matrices.shape[2]):\n",
    "    data = consensus_matrices[...,i]\n",
    "    subject = subjects[i]\n",
    "    \n",
    "    graph_df.set_value(subject, 'graph_density', bct.density_und(data)[0])\n",
    "    graph_df.set_value(subject, 'average_clustering', np.mean(bct.clustering_coef_wu(data)))\n",
    "    graph_df.set_value(subject, 'characteristic_path_length', bct.charpath(bct.distance_wei(bct.weight_conversion(data, 'lengths'))[0])[0])\n",
    "    graph_df.set_value(subject,'mean_strength', np.mean(bct.strengths_und(data)))\n",
    "    \n",
    "    counter += 1\n",
    "    w.value = 100*(float(counter)/len(in_files))\n",
    "    \n",
    "w.close()\n",
    "df = pd.merge(df, graph_df, left_index=True, right_index=True)"
   ]
  },
  {
   "cell_type": "markdown",
   "metadata": {},
   "source": [
    "Next, the data is scaled to mean and unit variance so that all variables are on the same scale"
   ]
  },
  {
   "cell_type": "code",
   "execution_count": 300,
   "metadata": {
    "collapsed": false
   },
   "outputs": [],
   "source": [
    "scaler = StandardScaler()\n",
    "df_scaled = pd.DataFrame(scaler.fit_transform(df[['age', 'Maths_std','Reading_std', 'Maths', 'Reading', 'ICV', 'Displacement', 'graph_density', 'average_clustering','characteristic_path_length']]), \n",
    "                         columns=['age', 'Maths_std','Reading_std', 'Maths', 'Reading', 'ICV', 'Displacement', 'graph_density', 'average_clustering','characteristic_path_length'])\n",
    "df_scaled['Gender'] = df['Gender'].values\n",
    "df_scaled.index = df.index"
   ]
  },
  {
   "cell_type": "markdown",
   "metadata": {},
   "source": [
    "## Analysis of the behavioural data"
   ]
  },
  {
   "cell_type": "markdown",
   "metadata": {},
   "source": [
    "Distribution of WIAT Maths and Reading scores in the imaging sample"
   ]
  },
  {
   "cell_type": "code",
   "execution_count": 38,
   "metadata": {
    "collapsed": false
   },
   "outputs": [
    {
     "data": {
      "image/png": "[encoded data removed]",
      "text/plain": [
       "<matplotlib.figure.Figure at 0x7f529336ef10>"
      ]
     },
     "metadata": {},
     "output_type": "display_data"
    }
   ],
   "source": [
    "sns.kdeplot(df['Maths_std'].values, shade=True);\n",
    "sns.kdeplot(df['Reading_std'].values, shade=True);\n",
    "sns.axlabel('scaled score','density')\n",
    "plt.legend(['Maths','Reading'])\n",
    "plt.savefig(outpath + 'FA_connectome.png', dpi=300)"
   ]
  },
  {
   "cell_type": "code",
   "execution_count": 39,
   "metadata": {
    "collapsed": false
   },
   "outputs": [
    {
     "name": "stdout",
     "output_type": "stream",
     "text": [
      "Maths: mean=85.1 SE=2.215\n",
      "Reading: mean=86.03 SE=2.165\n"
     ]
    }
   ],
   "source": [
    "print('Maths: mean=' + str(round(mean(df['Maths_std']),2)) + ' SE=' + str(round(stats.sem(df['Maths_std']),3)))\n",
    "print('Reading: mean=' + str(round(mean(df['Reading_std']),2)) + ' SE=' + str(round(stats.sem(df['Reading_std']),3)))"
   ]
  },
  {
   "cell_type": "code",
   "execution_count": 40,
   "metadata": {
    "collapsed": false
   },
   "outputs": [
    {
     "name": "stdout",
     "output_type": "stream",
     "text": [
      "Percentage below average on Maths: 51.0\n",
      "Percentage below average on Reading: 49.0\n"
     ]
    }
   ],
   "source": [
    "print('Percentage below average on Maths: ' + str(100*(round(float(sum(df['Maths_std'] < 85))/len(df),2))))\n",
    "print('Percentage below average on Reading: ' + str(100*(round(float(sum(df['Reading_std'] < 85))/len(df),2))))"
   ]
  },
  {
   "cell_type": "markdown",
   "metadata": {},
   "source": [
    "Testing if there is a difference between Reading and Maths scores:"
   ]
  },
  {
   "cell_type": "code",
   "execution_count": 41,
   "metadata": {
    "collapsed": false
   },
   "outputs": [
    {
     "name": "stdout",
     "output_type": "stream",
     "text": [
      "Paired sample t-test to compared Maths and Reading scores: t(58)=-0.42, p=0.673\n"
     ]
    }
   ],
   "source": [
    "print('Paired sample t-test to compared Maths and Reading scores: t(' + str(len(df) -1) + ')=' + \n",
    "    str(round(ttest_rel(df['Maths_std'].values, df['Reading_std'].values)[0],2)) + ', p=' + \n",
    "    str(round(ttest_rel(df['Maths_std'].values, df['Reading_std'].values)[1],3))\n",
    "      )"
   ]
  },
  {
   "cell_type": "markdown",
   "metadata": {},
   "source": [
    "Breakdown of specificity/comorbidity of Maths and Reading deficits"
   ]
  },
  {
   "cell_type": "code",
   "execution_count": 42,
   "metadata": {
    "collapsed": false
   },
   "outputs": [
    {
     "name": "stdout",
     "output_type": "stream",
     "text": [
      "Number of children with specific Maths deficit: 9\n",
      "Number of children with specific Reading deficit: 4\n",
      "Number of children with Maths and Reading deficits: 19\n",
      "Number of children with no Maths nor Reading deficits: 13\n"
     ]
    }
   ],
   "source": [
    "print('Number of children with specific Maths deficit: ' + str(len(df[(df['Maths_std'] < 85) & (df['Reading_std'] > 90)])))\n",
    "print('Number of children with specific Reading deficit: ' + str(len(df[(df['Maths_std'] > 90) & (df['Reading_std'] < 85)])))\n",
    "print('Number of children with Maths and Reading deficits: ' + str(len(df[(df['Maths_std'] < 85) & (df['Reading_std'] < 85)])))\n",
    "print('Number of children with no Maths nor Reading deficits: ' + str(len(df[(df['Maths_std'] > 90) & (df['Reading_std'] > 90)])))"
   ]
  },
  {
   "cell_type": "markdown",
   "metadata": {},
   "source": [
    "## Analysis of graph measures"
   ]
  },
  {
   "cell_type": "markdown",
   "metadata": {},
   "source": [
    "### Comparison to random graphs"
   ]
  },
  {
   "cell_type": "code",
   "execution_count": 44,
   "metadata": {
    "collapsed": false
   },
   "outputs": [],
   "source": [
    "# Setting up the progress bar\n",
    "w = FloatProgress(value=0, min=0, max=100, step=0.1, description='Progress:')\n",
    "display(w)\n",
    "counter = 0\n",
    "random_degree = list()\n",
    "\n",
    "for i in range(0, consensus_matrices.shape[2]):\n",
    "    data = consensus_matrices[...,i]\n",
    "    subject = subjects[i]\n",
    "        \n",
    "    random_charpaths = list()\n",
    "    random_clustcoefs = list()\n",
    "    random_density = list() \n",
    "    random_strength = list()\n",
    "    \n",
    "    random_degrees = list()\n",
    "    observed_degree = list()\n",
    "    \n",
    "    for i in range(0,20):\n",
    "        random_data = data[np.random.permutation(data.shape[0])][np.random.permutation(data.shape[0])]\n",
    "        random_charpaths.append(bct.charpath(bct.distance_wei(bct.weight_conversion(random_data, 'lengths'))[0])[0])\n",
    "        random_clustcoefs.append(np.mean(bct.clustering_coef_wu(random_data)[np.isinf(bct.clustering_coef_wu(random_data)) == False]))\n",
    "        random_density.append(bct.density_und(random_data)[0])\n",
    "        random_strength.append(bct.strengths_und(random_data))\n",
    "        random_degrees.append(sorted(bct.degrees_und(random_data), reverse=True))\n",
    "        \n",
    "    df.set_value(subject, 'random_charpath', np.mean(random_charpaths))\n",
    "    df.set_value(subject, 'random_clustcoef', np.mean(random_clustcoefs))\n",
    "    df.set_value(subject, 'random_density', np.mean(random_density))\n",
    "    df.set_value(subject, 'random_strength', np.mean(random_strength))\n",
    "    \n",
    "    random_degree.append(np.mean(np.asarray(random_degrees),0))\n",
    "    observed_degree.append(sorted(bct.degrees_und(data), reverse=True))\n",
    "    \n",
    "    counter += 1\n",
    "    w.value = 100*(float(counter)/len(in_files))\n",
    "    \n",
    "w.close()"
   ]
  },
  {
   "cell_type": "markdown",
   "metadata": {},
   "source": [
    "Plotting the degree distributions of observed and randomised data"
   ]
  },
  {
   "cell_type": "code",
   "execution_count": 45,
   "metadata": {
    "collapsed": false
   },
   "outputs": [
    {
     "data": {
      "image/png": "[encoded data removed]",
      "text/plain": [
       "<matplotlib.figure.Figure at 0x7f528badd210>"
      ]
     },
     "metadata": {},
     "output_type": "display_data"
    }
   ],
   "source": [
    "fig = plt.figure(num=None, figsize=(single_column, single_column), dpi=300, tight_layout=True, facecolor='white')\n",
    "plt.plot(np.mean(observed_degree, 0), linewidth=5, alpha=0.7)\n",
    "plt.plot(np.mean(random_degree, 0), linewidth=5, alpha=0.7)\n",
    "plt.xlabel('Node')\n",
    "plt.ylabel('Degree')\n",
    "plt.legend(['observed','randomized'])\n",
    "plt.savefig(outpath + 'Degree_distributions.png', dpi=300)"
   ]
  },
  {
   "cell_type": "markdown",
   "metadata": {},
   "source": [
    "Checking that the mean node strength is the same in the observed and random networks"
   ]
  },
  {
   "cell_type": "code",
   "execution_count": 46,
   "metadata": {
    "collapsed": false
   },
   "outputs": [
    {
     "name": "stdout",
     "output_type": "stream",
     "text": [
      "Observed strength: mean=2.01 SE=0.019\n",
      "Random strength: mean=2.01 SE=0.019\n",
      "Paired sample t-test to compare observed and random char. path length: t(58)=nan, p=nan\n"
     ]
    }
   ],
   "source": [
    "print('Observed strength: mean=' + str(round(mean(df['mean_strength']),2)) + ' SE=' + str(round(stats.sem(df['mean_strength']),3)))\n",
    "print('Random strength: mean=' + str(round(mean(df['random_strength']),2)) + ' SE=' + str(round(stats.sem(df['random_strength']),3)))\n",
    "\n",
    "print('Paired sample t-test to compare observed and random char. path length: t(' + str(len(df) -1) + ')=' + \n",
    "    str(round(ttest_rel(df['mean_strength'].values, df['random_strength'].values)[0],2)) + ', p=' + \n",
    "    str(round(ttest_rel(df['mean_strength'].values, df['random_strength'].values)[1],3))\n",
    "      )"
   ]
  },
  {
   "cell_type": "code",
   "execution_count": 47,
   "metadata": {
    "collapsed": false
   },
   "outputs": [
    {
     "data": {
      "text/plain": [
       "<matplotlib.legend.Legend at 0x7f528ba9b0d0>"
      ]
     },
     "execution_count": 47,
     "metadata": {},
     "output_type": "execute_result"
    },
    {
     "data": {
      "image/png": "[encoded data removed]",
      "text/plain": [
       "<matplotlib.figure.Figure at 0x7f529036c610>"
      ]
     },
     "metadata": {},
     "output_type": "display_data"
    }
   ],
   "source": [
    "fig = plt.figure(num=None, figsize=(single_column, single_column), dpi=300, tight_layout=True, facecolor='white')\n",
    "sns.kdeplot(df['graph_density'], shade=True)\n",
    "sns.kdeplot(df['random_density'], shade=True)\n",
    "sns.axlabel('graph metric','density')\n",
    "plt.legend(['observed density','random density'])"
   ]
  },
  {
   "cell_type": "code",
   "execution_count": 48,
   "metadata": {
    "collapsed": false
   },
   "outputs": [
    {
     "name": "stdout",
     "output_type": "stream",
     "text": [
      "Observed density: mean=0.09 SE=0.0\n",
      "Random density: mean=11.41 SE=0.084\n",
      "Paired sample t-test to compare observed and random char. path length: t(58)=30.44, p=0.0\n"
     ]
    }
   ],
   "source": [
    "print('Observed density: mean=' + str(round(mean(df['graph_density']),2)) + ' SE=' + str(round(stats.sem(df['graph_density']),3)))\n",
    "print('Random density: mean=' + str(round(mean(df['random_charpath']),2)) + ' SE=' + str(round(stats.sem(df['random_charpath']),3)))\n",
    "\n",
    "print('Paired sample t-test to compare observed and random char. path length: t(' + str(len(df) -1) + ')=' + \n",
    "    str(round(ttest_rel(df['characteristic_path_length'].values, df['random_charpath'].values)[0],2)) + ', p=' + \n",
    "    str(round(ttest_rel(df['characteristic_path_length'].values, df['random_charpath'].values)[1],3))\n",
    "      )"
   ]
  },
  {
   "cell_type": "code",
   "execution_count": 49,
   "metadata": {
    "collapsed": false
   },
   "outputs": [
    {
     "data": {
      "text/plain": [
       "<matplotlib.legend.Legend at 0x7f528b96b890>"
      ]
     },
     "execution_count": 49,
     "metadata": {},
     "output_type": "execute_result"
    },
    {
     "data": {
      "image/png": "[encoded data removed]",
      "text/plain": [
       "<matplotlib.figure.Figure at 0x7f528b988190>"
      ]
     },
     "metadata": {},
     "output_type": "display_data"
    }
   ],
   "source": [
    "fig = plt.figure(num=None, figsize=(single_column, single_column), dpi=300, tight_layout=True, facecolor='white')\n",
    "sns.kdeplot(df['characteristic_path_length'], shade=True)\n",
    "sns.kdeplot(df['random_charpath'], shade=True)\n",
    "sns.axlabel('graph metric','density')\n",
    "plt.legend(['observed char. path length','random char. path length'])"
   ]
  },
  {
   "cell_type": "code",
   "execution_count": 50,
   "metadata": {
    "collapsed": false
   },
   "outputs": [
    {
     "name": "stdout",
     "output_type": "stream",
     "text": [
      "Observed char. path length: mean=12.23 SE=0.091\n",
      "Random char. path length: mean=11.41 SE=0.084\n",
      "Paired sample t-test to compare observed and random char. path length: t(58)=30.44, p=0.0\n"
     ]
    }
   ],
   "source": [
    "print('Observed char. path length: mean=' + str(round(mean(df['characteristic_path_length']),2)) + ' SE=' + str(round(stats.sem(df['characteristic_path_length']),3)))\n",
    "print('Random char. path length: mean=' + str(round(mean(df['random_charpath']),2)) + ' SE=' + str(round(stats.sem(df['random_charpath']),3)))\n",
    "\n",
    "print('Paired sample t-test to compare observed and random char. path length: t(' + str(len(df) -1) + ')=' + \n",
    "    str(round(ttest_rel(df['characteristic_path_length'].values, df['random_charpath'].values)[0],2)) + ', p=' + \n",
    "    str(round(ttest_rel(df['characteristic_path_length'].values, df['random_charpath'].values)[1],3))\n",
    "      )"
   ]
  },
  {
   "cell_type": "code",
   "execution_count": 51,
   "metadata": {
    "collapsed": false
   },
   "outputs": [
    {
     "data": {
      "text/plain": [
       "<matplotlib.legend.Legend at 0x7f528504f5d0>"
      ]
     },
     "execution_count": 51,
     "metadata": {},
     "output_type": "execute_result"
    },
    {
     "data": {
      "image/png": "[encoded data removed]",
      "text/plain": [
       "<matplotlib.figure.Figure at 0x7f528504f910>"
      ]
     },
     "metadata": {},
     "output_type": "display_data"
    }
   ],
   "source": [
    "fig = plt.figure(num=None, figsize=(single_column, single_column), dpi=300, tight_layout=True, facecolor='white')\n",
    "sns.kdeplot(df['average_clustering'], shade=True)\n",
    "sns.kdeplot(df['random_clustcoef'], shade=True)\n",
    "sns.axlabel('graph metric','density')\n",
    "plt.legend(['observed average clustering','random average clustering'])"
   ]
  },
  {
   "cell_type": "code",
   "execution_count": 52,
   "metadata": {
    "collapsed": false
   },
   "outputs": [
    {
     "name": "stdout",
     "output_type": "stream",
     "text": [
      "Observed char. path length: mean=12.23 SE=0.091\n",
      "Random char. path length: mean=11.41 SE=0.084\n",
      "Paired sample t-test to compare observed and random clustering coefficient: t(58)=134.69, p=0.0\n"
     ]
    }
   ],
   "source": [
    "print('Observed char. path length: mean=' + str(round(mean(df['characteristic_path_length']),2)) + ' SE=' + str(round(stats.sem(df['characteristic_path_length']),3)))\n",
    "print('Random char. path length: mean=' + str(round(mean(df['random_charpath']),2)) + ' SE=' + str(round(stats.sem(df['random_charpath']),3)))\n",
    "\n",
    "print('Paired sample t-test to compare observed and random clustering coefficient: t(' + str(len(df) -1) + ')=' + \n",
    "    str(round(ttest_rel(df['average_clustering'].values, df['random_clustcoef'].values)[0],2)) + ', p=' + \n",
    "    str(round(ttest_rel(df['average_clustering'].values, df['random_clustcoef'].values)[1],3))\n",
    "      )"
   ]
  },
  {
   "cell_type": "markdown",
   "metadata": {},
   "source": [
    "### Influence of nuisance variables"
   ]
  },
  {
   "cell_type": "markdown",
   "metadata": {},
   "source": [
    "This section will assess the influence of intracranial volume (ICV), participant movement (Displacement), and graph density on the average clustering coefficient and characteristic path length of the FA network"
   ]
  },
  {
   "cell_type": "markdown",
   "metadata": {},
   "source": [
    "$y = \\beta_{ICV}X_{ICV} + \\beta_{Movement}X_{Movement} + \\beta_{Graph Density}X_{Graph Density} + \\beta_{Intercept} + \\epsilon$"
   ]
  },
  {
   "cell_type": "code",
   "execution_count": 53,
   "metadata": {
    "collapsed": false
   },
   "outputs": [
    {
     "data": {
      "text/html": [
       "<table class=\"simpletable\">\n",
       "<caption>OLS Regression Results</caption>\n",
       "<tr>\n",
       "  <th>Dep. Variable:</th>    <td>average_clustering</td> <th>  R-squared:         </th> <td>   0.276</td>\n",
       "</tr>\n",
       "<tr>\n",
       "  <th>Model:</th>                    <td>OLS</td>        <th>  Adj. R-squared:    </th> <td>   0.236</td>\n",
       "</tr>\n",
       "<tr>\n",
       "  <th>Method:</th>              <td>Least Squares</td>   <th>  F-statistic:       </th> <td>   6.975</td>\n",
       "</tr>\n",
       "<tr>\n",
       "  <th>Date:</th>              <td>Fri, 03 Jun 2016</td>  <th>  Prob (F-statistic):</th> <td>0.000464</td>\n",
       "</tr>\n",
       "<tr>\n",
       "  <th>Time:</th>                  <td>16:56:30</td>      <th>  Log-Likelihood:    </th> <td> -74.207</td>\n",
       "</tr>\n",
       "<tr>\n",
       "  <th>No. Observations:</th>       <td>    59</td>       <th>  AIC:               </th> <td>   156.4</td>\n",
       "</tr>\n",
       "<tr>\n",
       "  <th>Df Residuals:</th>           <td>    55</td>       <th>  BIC:               </th> <td>   164.7</td>\n",
       "</tr>\n",
       "<tr>\n",
       "  <th>Df Model:</th>               <td>     3</td>       <th>                     </th>     <td> </td>   \n",
       "</tr>\n",
       "<tr>\n",
       "  <th>Covariance Type:</th>       <td>nonrobust</td>     <th>                     </th>     <td> </td>   \n",
       "</tr>\n",
       "</table>\n",
       "<table class=\"simpletable\">\n",
       "<tr>\n",
       "        <td></td>           <th>coef</th>     <th>std err</th>      <th>t</th>      <th>P>|t|</th>  <th>[0.025</th>    <th>0.975]</th>  \n",
       "</tr>\n",
       "<tr>\n",
       "  <th>Intercept</th>     <td> 4.545e-16</td> <td>    0.115</td> <td> 3.96e-15</td> <td> 1.000</td> <td>   -0.230</td> <td>    0.230</td>\n",
       "</tr>\n",
       "<tr>\n",
       "  <th>ICV</th>           <td>   -0.2484</td> <td>    0.124</td> <td>   -1.997</td> <td> 0.051</td> <td>   -0.498</td> <td>    0.001</td>\n",
       "</tr>\n",
       "<tr>\n",
       "  <th>Displacement</th>  <td>   -0.0166</td> <td>    0.115</td> <td>   -0.144</td> <td> 0.886</td> <td>   -0.247</td> <td>    0.214</td>\n",
       "</tr>\n",
       "<tr>\n",
       "  <th>graph_density</th> <td>    0.3777</td> <td>    0.125</td> <td>    3.026</td> <td> 0.004</td> <td>    0.128</td> <td>    0.628</td>\n",
       "</tr>\n",
       "</table>\n",
       "<table class=\"simpletable\">\n",
       "<tr>\n",
       "  <th>Omnibus:</th>       <td> 3.996</td> <th>  Durbin-Watson:     </th> <td>   1.951</td>\n",
       "</tr>\n",
       "<tr>\n",
       "  <th>Prob(Omnibus):</th> <td> 0.136</td> <th>  Jarque-Bera (JB):  </th> <td>   2.402</td>\n",
       "</tr>\n",
       "<tr>\n",
       "  <th>Skew:</th>          <td> 0.275</td> <th>  Prob(JB):          </th> <td>   0.301</td>\n",
       "</tr>\n",
       "<tr>\n",
       "  <th>Kurtosis:</th>      <td> 2.179</td> <th>  Cond. No.          </th> <td>    1.52</td>\n",
       "</tr>\n",
       "</table>"
      ],
      "text/plain": [
       "<class 'statsmodels.iolib.summary.Summary'>\n",
       "\"\"\"\n",
       "                            OLS Regression Results                            \n",
       "==============================================================================\n",
       "Dep. Variable:     average_clustering   R-squared:                       0.276\n",
       "Model:                            OLS   Adj. R-squared:                  0.236\n",
       "Method:                 Least Squares   F-statistic:                     6.975\n",
       "Date:                Fri, 03 Jun 2016   Prob (F-statistic):           0.000464\n",
       "Time:                        16:56:30   Log-Likelihood:                -74.207\n",
       "No. Observations:                  59   AIC:                             156.4\n",
       "Df Residuals:                      55   BIC:                             164.7\n",
       "Df Model:                           3                                         \n",
       "Covariance Type:            nonrobust                                         \n",
       "=================================================================================\n",
       "                    coef    std err          t      P>|t|      [0.025      0.975]\n",
       "---------------------------------------------------------------------------------\n",
       "Intercept      4.545e-16      0.115   3.96e-15      1.000      -0.230       0.230\n",
       "ICV              -0.2484      0.124     -1.997      0.051      -0.498       0.001\n",
       "Displacement     -0.0166      0.115     -0.144      0.886      -0.247       0.214\n",
       "graph_density     0.3777      0.125      3.026      0.004       0.128       0.628\n",
       "==============================================================================\n",
       "Omnibus:                        3.996   Durbin-Watson:                   1.951\n",
       "Prob(Omnibus):                  0.136   Jarque-Bera (JB):                2.402\n",
       "Skew:                           0.275   Prob(JB):                        0.301\n",
       "Kurtosis:                       2.179   Cond. No.                         1.52\n",
       "==============================================================================\n",
       "\n",
       "Warnings:\n",
       "[1] Standard Errors assume that the covariance matrix of the errors is correctly specified.\n",
       "\"\"\""
      ]
     },
     "execution_count": 53,
     "metadata": {},
     "output_type": "execute_result"
    }
   ],
   "source": [
    "ols('average_clustering ~ ICV + Displacement + graph_density', data=df_scaled).fit().summary()"
   ]
  },
  {
   "cell_type": "markdown",
   "metadata": {},
   "source": [
    "## Analysis of relationship between graph metrics and behavioural data"
   ]
  },
  {
   "cell_type": "markdown",
   "metadata": {},
   "source": [
    "Regression models to assess the relationship between Maths and Reading ability and clustering coefficent and characteristic path length of the structural network"
   ]
  },
  {
   "cell_type": "markdown",
   "metadata": {},
   "source": [
    "$Y_{Reading/Maths} = \\beta_{CharPathLength}X_{CharPathLength} + \\beta_{ICV}X_{ICV} + \\beta_{Movement}X_{Movement} + \\beta_{GraphDensity}X_{GraphDensity} + \\beta_{Intercept} + \\epsilon$"
   ]
  },
  {
   "cell_type": "markdown",
   "metadata": {},
   "source": [
    "$Y_{Reading/Maths} = \\beta_{AverageClustering}X_{AverageClustering} + \\beta_{ICV}X_{ICV} + \\beta_{Movement}X_{Movement} + \\beta_{GraphDensity}X_{GraphDensity} + \\beta_{Intercept} + \\epsilon$"
   ]
  },
  {
   "cell_type": "code",
   "execution_count": 450,
   "metadata": {
    "collapsed": false
   },
   "outputs": [
    {
     "name": "stdout",
     "output_type": "stream",
     "text": [
      "Effect of average clustering coefficient on Reading: beta=0.48 p=0.003\n"
     ]
    }
   ],
   "source": [
    "print('Effect of average clustering coefficient on Reading: beta=' +\n",
    "    str(round(ols('Reading ~ average_clustering + ICV + Displacement + graph_density', data=df_scaled).fit().params['average_clustering'],2)) +\n",
    "    ' p=' + \n",
    "    str(round(ols('Reading ~ average_clustering + ICV + Displacement + graph_density', data=df_scaled).fit().pvalues['average_clustering'],3))\n",
    "      )"
   ]
  },
  {
   "cell_type": "code",
   "execution_count": 451,
   "metadata": {
    "collapsed": false
   },
   "outputs": [
    {
     "name": "stdout",
     "output_type": "stream",
     "text": [
      "Effect of characteristic path length on Reading: beta=-0.61 p=0.0\n"
     ]
    }
   ],
   "source": [
    "print('Effect of characteristic path length on Reading: beta=' +\n",
    "    str(round(ols('Reading ~ characteristic_path_length + ICV + Displacement + graph_density', data=df_scaled).fit().params['characteristic_path_length'],2)) +\n",
    "    ' p=' + \n",
    "    str(round(ols('Reading ~ characteristic_path_length + ICV + Displacement + graph_density', data=df_scaled).fit().pvalues['characteristic_path_length'],3))\n",
    "      )"
   ]
  },
  {
   "cell_type": "code",
   "execution_count": 452,
   "metadata": {
    "collapsed": false
   },
   "outputs": [
    {
     "name": "stdout",
     "output_type": "stream",
     "text": [
      "Effect of average clustering coefficient on Maths: beta=0.5 p=0.002\n"
     ]
    }
   ],
   "source": [
    "print('Effect of average clustering coefficient on Maths: beta=' +\n",
    "    str(round(ols('Maths ~ average_clustering + ICV + Displacement + graph_density', data=df_scaled).fit().params['average_clustering'],2)) +\n",
    "    ' p=' + \n",
    "    str(round(ols('Maths ~ average_clustering + ICV + Displacement + graph_density', data=df_scaled).fit().pvalues['average_clustering'],3))\n",
    "      )"
   ]
  },
  {
   "cell_type": "code",
   "execution_count": 453,
   "metadata": {
    "collapsed": false
   },
   "outputs": [
    {
     "name": "stdout",
     "output_type": "stream",
     "text": [
      "Effect of average characteristic path length on Maths: beta=-0.58 p=0.0\n"
     ]
    }
   ],
   "source": [
    "print('Effect of average characteristic path length on Maths: beta=' +\n",
    "    str(round(ols('Maths ~ characteristic_path_length + ICV + Displacement + graph_density', data=df_scaled).fit().params['characteristic_path_length'],2)) +\n",
    "    ' p=' + \n",
    "    str(round(ols('Maths ~ characteristic_path_length + ICV + Displacement + graph_density', data=df_scaled).fit().pvalues['characteristic_path_length'],3))\n",
    "      )"
   ]
  },
  {
   "cell_type": "code",
   "execution_count": 454,
   "metadata": {
    "collapsed": false
   },
   "outputs": [
    {
     "data": {
      "image/png": "[encoded data removed]",
      "text/plain": [
       "<matplotlib.figure.Figure at 0x7f527803b110>"
      ]
     },
     "metadata": {},
     "output_type": "display_data"
    }
   ],
   "source": [
    "sns.set_style(\"whitegrid\")\n",
    "sns.set_style({'axes.grid': False,\n",
    "               'font.family': [u'serif'],\n",
    "               'font.sans-serif': [u'Computer Modern Unicode'],})\n",
    "\n",
    "measures = ['average_clustering', 'characteristic_path_length']\n",
    "legends = (r'$C_{G}$',r'$L_{G}$')\n",
    "counter = 0\n",
    "\n",
    "fig = plt.figure(figsize=(one_half_column, one_half_column/2), dpi=300, tight_layout=True)\n",
    "\n",
    "for measure in measures:\n",
    "    plt.subplot(1,2,counter+1)\n",
    "    sns.regplot(df_scaled[measure].values, \n",
    "                ols('Reading ~ ICV + Displacement + graph_density', data=df_scaled).fit().resid, \n",
    "                ci=95, \n",
    "                robust=True)\n",
    "    sns.regplot(df_scaled[measure].values, \n",
    "                ols('Maths ~ ICV + Displacement + graph_density', data=df_scaled).fit().resid, \n",
    "                ci=95, \n",
    "                robust=True)\n",
    "    sns.axlabel(legends[counter],'score [residual]')\n",
    "    if counter == 1:\n",
    "        plt.legend(['Maths','Reading'])\n",
    "    ax = fig.gca()\n",
    "    ax.spines['top'].set_visible(False)\n",
    "    ax.spines['right'].set_visible(False)\n",
    "    ax.xaxis.set_ticks_position('bottom')\n",
    "    ax.yaxis.set_ticks_position('left')\n",
    "    counter += 1\n",
    "                 \n",
    "plt.savefig(outpath + 'Regression_results.png', dpi=300)"
   ]
  },
  {
   "cell_type": "markdown",
   "metadata": {},
   "source": [
    "### Saving the data"
   ]
  },
  {
   "cell_type": "code",
   "execution_count": 502,
   "metadata": {
    "collapsed": false
   },
   "outputs": [],
   "source": [
    "df_scaled = df_scaled.set_index(subjects)\n",
    "df_scaled[['age','Maths','Reading','ICV','Displacement','graph_density']].to_csv(outpath + 'Variables.csv')"
   ]
  },
  {
   "cell_type": "code",
   "execution_count": 503,
   "metadata": {
    "collapsed": false
   },
   "outputs": [],
   "source": [
    "for i in range(0,consensus_matrices.shape[2]):\n",
    "    np.savetxt(X = np.squeeze(consensus_matrices[...,i]),\n",
    "              fname='/imaging/jb07/CALM/DWI/FA_connectome/all_connectomes/' + subjects[i] + '.txt')"
   ]
  },
  {
   "cell_type": "code",
   "execution_count": 504,
   "metadata": {
    "collapsed": true
   },
   "outputs": [],
   "source": [
    "np.savetxt(X = np.mean(consensus_matrices,2),\n",
    "              fname='/imaging/jb07/CALM/DWI/FA_connectome/mean_connectome.txt')"
   ]
  },
  {
   "cell_type": "markdown",
   "metadata": {},
   "source": [
    "## Group network analysis"
   ]
  },
  {
   "cell_type": "code",
   "execution_count": 63,
   "metadata": {
    "collapsed": false
   },
   "outputs": [],
   "source": [
    "group_network = np.mean(consensus_matrices,2)"
   ]
  },
  {
   "cell_type": "code",
   "execution_count": 64,
   "metadata": {
    "collapsed": false
   },
   "outputs": [],
   "source": [
    "group_df = pd.DataFrame()\n",
    "group_df['label'] = ['Precentral_L', 'Precentral_R', 'Frontal_Sup_L', 'Frontal_Sup_R', 'Frontal_Sup_Orb_L', 'Frontal_Sup_Orb_R', 'Frontal_Mid_L', 'Frontal_Mid_R', 'Frontal_Mid_Orb_L', 'Frontal_Mid_Orb_R', 'Frontal_Inf_Oper_L', 'Frontal_Inf_Oper_R', 'Frontal_Inf_Tri_L', 'Frontal_Inf_Tri_R', 'Frontal_Inf_Orb_L', 'Frontal_Inf_Orb_R', 'Rolandic_Oper_L', 'Rolandic_Oper_R', 'Supp_Motor_Area_L', 'Supp_Motor_Area_R', 'Olfactory_L', 'Olfactory_R', 'Frontal_Sup_Medial_L', 'Frontal_Sup_Medial_R', 'Frontal_Med_Orb_L', 'Frontal_Med_Orb_R', 'Rectus_L', 'Rectus_R', 'Insula_L', 'Insula_R', 'Cingulum_Ant_L', 'Cingulum_Ant_R', 'Cingulum_Mid_L', 'Cingulum_Mid_R', 'Cingulum_Post_L', 'Cingulum_Post_R', 'Hippocampus_L', 'Hippocampus_R', 'ParaHippocampal_L', 'ParaHippocampal_R', 'Amygdala_L', 'Amygdala_R', 'Calcarine_L', 'Calcarine_R', 'Cuneus_L', 'Cuneus_R', 'Lingual_L', 'Lingual_R', 'Occipital_Sup_L', 'Occipital_Sup_R', 'Occipital_Mid_L', 'Occipital_Mid_R', 'Occipital_Inf_L', 'Occipital_Inf_R', 'Fusiform_L', 'Fusiform_R', 'Postcentral_L', 'Postcentral_R', 'Parietal_Sup_L', 'Parietal_Sup_R', 'Parietal_Inf_L', 'Parietal_Inf_R', 'SupraMarginal_L', 'SupraMarginal_R', 'Angular_L', 'Angular_R', 'Precuneus_L', 'Precuneus_R', 'Paracentral_Lobule_L', 'Paracentral_Lobule_R', 'Caudate_L', 'Caudate_R', 'Putamen_L', 'Putamen_R', 'Pallidum_L', 'Pallidum_R', 'Thalamus_L', 'Thalamus_R', 'Heschl_L', 'Heschl_R', 'Temporal_Sup_L', 'Temporal_Sup_R', 'Temporal_Pole_Sup_L', 'Temporal_Pole_Sup_R', 'Temporal_Mid_L', 'Temporal_Mid_R', 'Temporal_Pole_Mid_L', 'Temporal_Pole_Mid_R', 'Temporal_Inf_L', 'Temporal_Inf_R', 'Cerebelum_Crus1_L', 'Cerebelum_Crus1_R', 'Cerebelum_Crus2_L', 'Cerebelum_Crus2_R', 'Cerebelum_3_L', 'Cerebelum_3_R', 'Cerebelum_4_5_L', 'Cerebelum_4_5_R', 'Cerebelum_6_L', 'Cerebelum_6_R', 'Cerebelum_7b_L', 'Cerebelum_7b_R', 'Cerebelum_8_L', 'Cerebelum_8_R', 'Cerebelum_9_L', 'Cerebelum_9_R', 'Cerebelum_10_L', 'Cerebelum_10_R', 'Vermis_1_2', 'Vermis_3', 'Vermis_4_5', 'Vermis_6', 'Vermis_7', 'Vermis_8', 'Vermis_9', 'Vermis_10']"
   ]
  },
  {
   "cell_type": "code",
   "execution_count": 65,
   "metadata": {
    "collapsed": false
   },
   "outputs": [],
   "source": [
    "group_df['degree'] = bct.degrees_und(group_network)\n",
    "group_df['clustering_coefficient'] = bct.clustering_coef_wu(group_network)\n",
    "group_df['strength'] = bct.strengths_und(group_network)\n",
    "\n",
    "newdata = data[bct.get_components(group_network, no_depend=True)[0] == 1, :] \n",
    "newdata = newdata[:, bct.get_components(group_network, no_depend=True)[0] == 1] \n",
    "components = bct.get_components(newdata, no_depend=True)\n",
    "newdata = newdata[components[0] == 1, :]\n",
    "newdata = newdata[:, components[0] == 1]\n",
    "eccentricity = np.zeros(len(group_network))\n",
    "eccentricity[np.unique(np.hstack([np.where(components[0] == 1), np.where(bct.get_components(group_network, no_depend=True)[0] == 1)]))] = bct.charpath(bct.distance_wei(bct.weight_conversion(newdata, 'lengths'))[0])[2]\n",
    "\n",
    "group_df['eccentricity'] = eccentricity\n",
    "\n",
    "group_df['rich_club'] = group_df['degree'] > np.mean(group_df['degree'].values) + np.std(group_df['degree'].values)"
   ]
  },
  {
   "cell_type": "code",
   "execution_count": 62,
   "metadata": {
    "collapsed": true
   },
   "outputs": [],
   "source": [
    "colours = group_df['rich_club']\n",
    "colours[colours == True] = '#0099ff'\n",
    "colours[colours == False] = '#b3b3cc'\n",
    "group_df['colour'] = colours"
   ]
  },
  {
   "cell_type": "code",
   "execution_count": 375,
   "metadata": {
    "collapsed": false,
    "scrolled": true
   },
   "outputs": [
    {
     "data": {
      "image/png": "[encoded data removed]",
      "text/plain": [
       "<matplotlib.figure.Figure at 0x7f6e7f385550>"
      ]
     },
     "metadata": {},
     "output_type": "display_data"
    }
   ],
   "source": [
    "fig = plt.figure(num=None, figsize=(double_column, double_column), dpi=300, tight_layout=True, facecolor='white')\n",
    "\n",
    "legends = (r'$D_{i}$', r'$C_{i}$', r'$S_{i}$', r'$L_{i}$')\n",
    "counter = 0\n",
    "\n",
    "for measure in ['degree', 'clustering_coefficient', 'strength', 'eccentricity']:\n",
    "    group_df = group_df.sort(columns=measure, ascending=False)\n",
    "    plt.subplot(4,1,counter+1)\n",
    "    plt.bar(range(1,117), group_df[measure].values, width=1, color=group_df['colour'])\n",
    "    #plt.xticks(range(1,117), group_df['label'].values, rotation=90)\n",
    "    plt.ylabel(legends[counter])\n",
    "    ax = fig.gca()\n",
    "    ax.spines['top'].set_visible(False)\n",
    "    ax.spines['right'].set_visible(False)\n",
    "    ax.xaxis.set_ticks_position('bottom')\n",
    "    ax.yaxis.set_ticks_position('left')\n",
    "    counter += 1\n",
    "\n",
    "#plt.savefig(outpath + 'GraphMetric_distribution.png', dpi=300)"
   ]
  },
  {
   "cell_type": "code",
   "execution_count": 212,
   "metadata": {
    "collapsed": false
   },
   "outputs": [
    {
     "name": "stdout",
     "output_type": "stream",
     "text": [
      "Difference between rich club and peripheral node: \n",
      "in Node degree: Rich club mean=22.32 SE=0.77; Peripheral mean=8.46 SE=1.166; t=11.22 p=0.0\n",
      "in Clustering coefficient: Rich club mean=0.08 SE=0.003; Peripheral mean=0.1 SE=0.012; t=-2.05 p=0.043\n",
      "in Node strength: Rich club mean=4.22 SE=0.17; Peripheral mean=1.49 SE=0.217; t=11.65 p=0.0\n",
      "in Eccentricity: Rich club mean=21.8 SE=0.553; Peripheral mean=21.36 SE=1.331; t=0.32 p=0.75\n"
     ]
    }
   ],
   "source": [
    "print('Difference between rich club and peripheral node: ')\n",
    "\n",
    "legends = ['Node degree', 'Clustering coefficient', 'Node strength', 'Eccentricity']\n",
    "counter = 0\n",
    "\n",
    "for measure in ['degree', 'clustering_coefficient', 'strength', 'eccentricity']:\n",
    "    print('in ' + legends[counter] + ': ' + \n",
    "          'Rich club mean=' + str(round(np.mean(group_df[group_df['rich_club'] == True][measure].values),2)) + \n",
    "          ' SE=' + str(round(float(np.std(group_df[group_df['rich_club'] == True][measure].values))/sqrt(len(group_df[group_df['rich_club'] == True][measure].values)),3)) +\n",
    "          '; Peripheral mean=' + str(round(np.mean(group_df[group_df['rich_club'] == False][measure].values),2)) + \n",
    "          ' SE=' + str(round(float(np.std(group_df[group_df['rich_club'] == False][measure].values))/sqrt(len(group_df[group_df['rich_club'] == True][measure].values)),3)) +\n",
    "          '; t=' +\n",
    "          str(round(ttest_ind(group_df[group_df['rich_club'] == True][measure].values, \n",
    "              group_df[group_df['rich_club'] == False][measure].values)[0],2)) + ' p=' + \n",
    "          str(round(ttest_ind(group_df[group_df['rich_club'] == True][measure].values, \n",
    "              group_df[group_df['rich_club'] == False][measure].values)[1],3))\n",
    "          )\n",
    "    counter += 1"
   ]
  },
  {
   "cell_type": "markdown",
   "metadata": {},
   "source": [
    "Getting graph metrics of nodes within and outside of the rich club"
   ]
  },
  {
   "cell_type": "code",
   "execution_count": 255,
   "metadata": {
    "collapsed": false
   },
   "outputs": [],
   "source": [
    "graph_df = pd.DataFrame()\n",
    "\n",
    "# Setting up the progress bar\n",
    "w = FloatProgress(value=0, min=0, max=100, step=0.1, description='Progress:')\n",
    "display(w)\n",
    "counter = 0\n",
    "\n",
    "for i in range(0, consensus_matrices.shape[2]):\n",
    "    data = consensus_matrices[...,i]\n",
    "    subject = subjects[i]\n",
    "    \n",
    "    graph_df.set_value(subject, 'RC_clustering', np.mean(bct.clustering_coef_wu(data)[np.where(group_df['rich_club'].values == True)]))\n",
    "    graph_df.set_value(subject, 'nonRC_clustering', np.mean(bct.clustering_coef_wu(data)[np.where(group_df['rich_club'].values == False)]))\n",
    "    \n",
    "    newdata = data[bct.get_components(data, no_depend=True)[0] == 1, :] \n",
    "    newdata = newdata[:, bct.get_components(data, no_depend=True)[0] == 1] \n",
    "    eccentricity = np.zeros(len(data))\n",
    "    eccentricity[bct.get_components(data, no_depend=True)[0] == 1] = bct.charpath(bct.distance_wei(bct.weight_conversion(newdata, 'lengths'))[0])[2]\n",
    "    \n",
    "    graph_df.set_value(subject, 'RC_eccentricity', np.mean(eccentricity[np.where(group_df['rich_club'].values == True)]))\n",
    "    graph_df.set_value(subject, 'nonRC_eccentricity', np.mean(eccentricity[np.where(group_df['rich_club'].values == False)]))\n",
    "                  \n",
    "    counter += 1\n",
    "    w.value = 100*(float(counter)/len(in_files))\n",
    "w.close()\n",
    "\n",
    "graph_df = pd.DataFrame(scaler.fit_transform(graph_df), columns=graph_df.columns, index=graph_df.index)\n",
    "df_scaled = pd.merge(df_scaled, graph_df, left_index=True, right_index=True)"
   ]
  },
  {
   "cell_type": "code",
   "execution_count": 223,
   "metadata": {
    "collapsed": false
   },
   "outputs": [
    {
     "name": "stdout",
     "output_type": "stream",
     "text": [
      "Rich club clustering on Maths: beta=0.34 pvalue=0.019\n",
      "Peripheral clustering on Maths: beta=0.44 pvalue=0.004\n",
      "Rich club eccentricity on Maths: beta=-0.27 pvalue=0.069\n",
      "Peripheral eccentricity on Maths: beta=-0.34 pvalue=0.018\n"
     ]
    }
   ],
   "source": [
    "print('Rich club clustering on Maths: beta=' +\n",
    "      str(round(ols('Maths ~ RC_clustering + ICV + Displacement + graph_density', data=df_scaled).fit().params['RC_clustering'], 2)) +\n",
    "      ' pvalue=' +\n",
    "      str(round(ols('Maths ~ RC_clustering + ICV + Displacement + graph_density', data=df_scaled).fit().pvalues['RC_clustering'], 3)))\n",
    "\n",
    "print('Peripheral clustering on Maths: beta=' +\n",
    "      str(round(ols('Maths ~ nonRC_clustering + ICV + Displacement + graph_density', data=df_scaled).fit().params['nonRC_clustering'], 2)) + \n",
    "      ' pvalue=' + \n",
    "      str(round(ols('Maths ~ nonRC_clustering + ICV + Displacement + graph_density', data=df_scaled).fit().pvalues['nonRC_clustering'], 3)))\n",
    "\n",
    "print('Rich club eccentricity on Maths: beta=' +\n",
    "      str(round(ols('Maths ~ RC_eccentricity + ICV + Displacement + graph_density', data=df_scaled).fit().params['RC_eccentricity'], 2)) + \n",
    "      ' pvalue=' + \n",
    "      str(round(ols('Maths ~ RC_eccentricity + ICV + Displacement + graph_density', data=df_scaled).fit().pvalues['RC_eccentricity'], 3)))\n",
    "\n",
    "print('Peripheral eccentricity on Maths: beta=' +\n",
    "      str(round(ols('Maths ~ nonRC_eccentricity + ICV + Displacement + graph_density', data=df_scaled).fit().params['nonRC_eccentricity'], 2)) + \n",
    "      ' pvalue=' + \n",
    "      str(round(ols('Maths ~ nonRC_eccentricity + ICV + Displacement + graph_density', data=df_scaled).fit().pvalues['nonRC_eccentricity'], 3)))"
   ]
  },
  {
   "cell_type": "code",
   "execution_count": 224,
   "metadata": {
    "collapsed": false
   },
   "outputs": [
    {
     "name": "stdout",
     "output_type": "stream",
     "text": [
      "Rich club clustering on Reading: beta=0.28 pvalue=0.056\n",
      "Peripheral clustering on Reading: beta=0.45 pvalue=0.003\n",
      "Rich club eccentricity on Reading: beta=-0.34 pvalue=0.02\n",
      "Peripheral eccentricity on Reading: beta=-0.38 pvalue=0.007\n"
     ]
    }
   ],
   "source": [
    "print('Rich club clustering on Reading: beta=' +\n",
    "      str(round(ols('Reading ~ RC_clustering + ICV + Displacement + graph_density', data=df_scaled).fit().params['RC_clustering'], 2)) +\n",
    "      ' pvalue=' +\n",
    "      str(round(ols('Reading ~ RC_clustering + ICV + Displacement + graph_density', data=df_scaled).fit().pvalues['RC_clustering'], 3)))\n",
    "\n",
    "print('Peripheral clustering on Reading: beta=' +\n",
    "      str(round(ols('Reading ~ nonRC_clustering + ICV + Displacement + graph_density', data=df_scaled).fit().params['nonRC_clustering'], 2)) + \n",
    "      ' pvalue=' + \n",
    "      str(round(ols('Reading ~ nonRC_clustering + ICV + Displacement + graph_density', data=df_scaled).fit().pvalues['nonRC_clustering'], 3)))\n",
    "\n",
    "print('Rich club eccentricity on Reading: beta=' +\n",
    "      str(round(ols('Reading ~ RC_eccentricity + ICV + Displacement + graph_density', data=df_scaled).fit().params['RC_eccentricity'], 2)) + \n",
    "      ' pvalue=' + \n",
    "      str(round(ols('Reading ~ RC_eccentricity + ICV + Displacement + graph_density', data=df_scaled).fit().pvalues['RC_eccentricity'], 3)))\n",
    "\n",
    "print('Peripheral eccentricity on Reading: beta=' +\n",
    "      str(round(ols('Reading ~ nonRC_eccentricity + ICV + Displacement + graph_density', data=df_scaled).fit().params['nonRC_eccentricity'], 2)) + \n",
    "      ' pvalue=' + \n",
    "      str(round(ols('Reading ~ nonRC_eccentricity + ICV + Displacement + graph_density', data=df_scaled).fit().pvalues['nonRC_eccentricity'], 3)))"
   ]
  },
  {
   "cell_type": "markdown",
   "metadata": {},
   "source": [
    "### Targeted attack analysis"
   ]
  },
  {
   "cell_type": "code",
   "execution_count": 184,
   "metadata": {
    "collapsed": false
   },
   "outputs": [],
   "source": [
    "w = FloatProgress(value=0, min=0, max=100, step=0.1, description='Progress:')\n",
    "display(w)\n",
    "\n",
    "attack_df = pd.DataFrame()\n",
    "value = 0.0001\n",
    "max_repetitions = 20\n",
    "maximum = 20\n",
    "total_count = 0\n",
    "\n",
    "RC_nodes = np.where(group_df['rich_club'] == True)[0]\n",
    "Peripheral_nodes = np.where(group_df['rich_club'] == False)[0]\n",
    "\n",
    "for attack_type in ['random', 'rich_club', 'peripheral']:\n",
    "    counter = 1\n",
    "    \n",
    "    for counter in range(1,maximum):\n",
    "            average_clusterings = list()\n",
    "            characteristic_path_lengths = list()\n",
    "            graph_densities = list()\n",
    "\n",
    "            for repetitions in range(0,max_repetitions):\n",
    "                target_network = np.mean(consensus_matrices,2)\n",
    "\n",
    "                if attack_type == 'random':\n",
    "                    target_network[np.random.randint(len(target_network), size=counter),:] = value\n",
    "                    target_network[:,np.random.randint(len(target_network), size=counter)] = value\n",
    "                if attack_type == 'rich_club':\n",
    "                    target_network[np.random.permutation(RC_nodes)[0:counter],:] = value\n",
    "                    target_network[:,np.random.permutation(RC_nodes)[0:counter]] = value\n",
    "                if attack_type == 'peripheral':\n",
    "                    target_network[np.random.permutation(Peripheral_nodes)[0:counter],:] = value\n",
    "                    target_network[:,np.random.permutation(Peripheral_nodes)[0:counter]] = value\n",
    "\n",
    "                average_clusterings.append(np.mean(bct.clustering_coef_wu(target_network)))\n",
    "                characteristic_path_lengths.append(bct.charpath(bct.distance_wei(bct.weight_conversion(target_network, 'lengths'))[0])[0])\n",
    "                graph_densities.append(bct.density_und(target_network)[0])\n",
    "\n",
    "            attack_df.set_value(total_count, 'average_clustering', np.mean(average_clusterings))\n",
    "            attack_df.set_value(total_count, 'nodes_missing', counter)\n",
    "            attack_df.set_value(total_count, 'characteristic_path_length', np.mean(characteristic_path_lengths))\n",
    "            attack_df.set_value(total_count, 'graph_density', np.mean(graph_densities))\n",
    "            attack_df.set_value(total_count, 'attack_type', attack_type)\n",
    "            \n",
    "            counter += 1\n",
    "            total_count += 1\n",
    "            w.value = 100*(float(total_count)/(maximum*max_repetitions))\n",
    "    \n",
    "w.close()"
   ]
  },
  {
   "cell_type": "code",
   "execution_count": 333,
   "metadata": {
    "collapsed": false
   },
   "outputs": [],
   "source": [
    "w = FloatProgress(value=0, min=0, max=100, step=0.1, description='Progress:')\n",
    "display(w)\n",
    "\n",
    "attack_df = pd.DataFrame()\n",
    "value = 0.0001\n",
    "max_repetitions = 100\n",
    "maximum = 20\n",
    "total_count = 0\n",
    "\n",
    "RC_nodes = np.where(group_df['rich_club'] == True)[0]\n",
    "Peripheral_nodes = np.where(group_df['rich_club'] == False)[0]\n",
    "\n",
    "for attack_type in ['random', 'rich_club', 'peripheral']:\n",
    "    counter = 1\n",
    "    \n",
    "    for counter in range(1,maximum):\n",
    "            average_clusterings = list()\n",
    "            characteristic_path_lengths = list()\n",
    "            graph_densities = list()\n",
    "\n",
    "            for repetitions in range(0,max_repetitions):\n",
    "                target_network = np.mean(consensus_matrices,2)\n",
    "\n",
    "                if attack_type == 'random':\n",
    "                    random_nodes = np.random.randint(len(target_network), size=counter)\n",
    "                if attack_type == 'rich_club':\n",
    "                    random_nodes = np.random.permutation(RC_nodes)[0:counter]\n",
    "                if attack_type == 'peripheral':\n",
    "                    random_nodes = np.random.permutation(Peripheral_nodes)[0:counter]\n",
    "                    \n",
    "                target_network[np.where(target_network[:, random_nodes] > 0)] = value\n",
    "                target_network[np.where(target_network[random_nodes, :] > 0)] = value\n",
    "                \n",
    "                average_clusterings.append(np.mean(bct.clustering_coef_wu(target_network)))\n",
    "                characteristic_path_lengths.append(bct.charpath(bct.distance_wei(bct.weight_conversion(target_network, 'lengths'))[0])[0])\n",
    "                graph_densities.append(bct.density_und(target_network)[0])\n",
    "\n",
    "            attack_df.set_value(total_count, 'average_clustering', np.mean(average_clusterings))\n",
    "            attack_df.set_value(total_count, 'nodes_missing', counter)\n",
    "            attack_df.set_value(total_count, 'characteristic_path_length', np.mean(characteristic_path_lengths))\n",
    "            attack_df.set_value(total_count, 'graph_density', np.mean(graph_densities))\n",
    "            attack_df.set_value(total_count, 'attack_type', attack_type)\n",
    "            \n",
    "            counter += 1\n",
    "            total_count += 1\n",
    "            w.value = 100*(float(total_count)/(maximum*max_repetitions))\n",
    "    \n",
    "w.close()"
   ]
  },
  {
   "cell_type": "code",
   "execution_count": 334,
   "metadata": {
    "collapsed": false
   },
   "outputs": [
    {
     "data": {
      "image/png": "[encoded data removed]",
      "text/plain": [
       "<matplotlib.figure.Figure at 0x7f5277f145d0>"
      ]
     },
     "metadata": {},
     "output_type": "display_data"
    }
   ],
   "source": [
    "legends = (r'$C_{G}$', r'$L_{G}$', r'$D_{G}$')\n",
    "counter = 0\n",
    "plt.style.use(['seaborn-paper', 'seaborn-colorblind'])\n",
    "\n",
    "fig = plt.figure(figsize=(one_half_column, one_half_column/2), dpi=300, tight_layout=True, facecolor='white', frameon=True)\n",
    "\n",
    "for measure in ['average_clustering', 'characteristic_path_length']:\n",
    "    plt.subplot(1,2,counter+1)\n",
    "    plt.plot(attack_df[attack_df['attack_type'] == 'random']['nodes_missing'], attack_df[attack_df['attack_type'] == 'random'][measure], '-o')\n",
    "    plt.plot(attack_df[attack_df['attack_type'] == 'rich_club']['nodes_missing'], attack_df[attack_df['attack_type'] == 'rich_club'][measure], '-o')\n",
    "    plt.plot(attack_df[attack_df['attack_type'] == 'peripheral']['nodes_missing'], attack_df[attack_df['attack_type'] == 'peripheral'][measure], '-o')\n",
    "    plt.xlabel('Number of knocked-down nodes')\n",
    "    plt.ylabel(legends[counter])\n",
    "    if counter == 0:\n",
    "            plt.legend(['Random attack','Rich club attack', 'Peripheral attack'], loc='best')\n",
    "    ax = fig.gca()\n",
    "    ax.spines['top'].set_visible(False)\n",
    "    ax.spines['right'].set_visible(False)\n",
    "    ax.xaxis.set_ticks_position('bottom')\n",
    "    ax.yaxis.set_ticks_position('left')\n",
    "    counter += 1\n",
    "    \n",
    "plt.savefig(outpath + 'Attack_results_S2.png', dpi=300, facecolor='white')"
   ]
  },
  {
   "cell_type": "markdown",
   "metadata": {},
   "source": [
    "Re-scaling the variables for prediction in the original model"
   ]
  },
  {
   "cell_type": "code",
   "execution_count": 335,
   "metadata": {
    "collapsed": false
   },
   "outputs": [],
   "source": [
    "newdf = attack_df\n",
    "newdf['average_clustering'] = attack_df['average_clustering'] - np.mean(df['average_clustering'])/np.std(df['average_clustering'])\n",
    "newdf['characteristic_path_length'] = attack_df['characteristic_path_length'] - np.mean(df['characteristic_path_length'])/np.std(df['characteristic_path_length'])\n",
    "newdf['graph_density'] = attack_df['graph_density'] - np.mean(df['graph_density'])/np.std(df['graph_density'])"
   ]
  },
  {
   "cell_type": "code",
   "execution_count": 336,
   "metadata": {
    "collapsed": false
   },
   "outputs": [],
   "source": [
    "df_predicted = pd.DataFrame()\n",
    "\n",
    "counter = 0\n",
    "average_clustering_results = list()\n",
    "char_path_length_results = list()\n",
    "\n",
    "df_residual = df\n",
    "df_residual['Maths'] = ols('Maths ~ ICV + Displacement', data=df_scaled).fit().resid\n",
    "df_residual['Reading'] = ols('Reading ~ ICV + Displacement', data=df_scaled).fit().resid\n",
    "\n",
    "for outcome in ['Reading', 'Maths']:\n",
    "    for attack_type in ['random', 'rich_club', 'peripheral']:\n",
    "        for measure in ['average_clustering', 'characteristic_path_length']:\n",
    "\n",
    "            if measure == 'average_clustering':\n",
    "                model = ols(outcome + ' ~ average_clustering + graph_density', data=df_scaled).fit()\n",
    "                result = model.predict(exog={'average_clustering':attack_df[attack_df['attack_type'] == attack_type][measure].values,\n",
    "                                             'graph_density':attack_df[attack_df['attack_type'] == attack_type]['graph_density'].values})\n",
    "                average_clustering_results.append(result)\n",
    "\n",
    "            if measure == 'characteristic_path_length':\n",
    "                model = ols(outcome + ' ~ characteristic_path_length + graph_density', data=df_scaled).fit()\n",
    "                result = model.predict(exog={'characteristic_path_length':attack_df[attack_df['attack_type'] == attack_type][measure].values,\n",
    "                                             'graph_density':attack_df[attack_df['attack_type'] == attack_type]['graph_density'].values})\n",
    "                char_path_length_results.append(result)"
   ]
  },
  {
   "cell_type": "code",
   "execution_count": 337,
   "metadata": {
    "collapsed": false
   },
   "outputs": [],
   "source": [
    "predicted_df = pd.DataFrame({'characteristic_path_length':np.asarray(char_path_length_results).flatten(),\n",
    "                             'average_clustering':np.asarray(average_clustering_results).flatten()})"
   ]
  },
  {
   "cell_type": "code",
   "execution_count": 338,
   "metadata": {
    "collapsed": false
   },
   "outputs": [],
   "source": [
    "predicted_df['outcome'] = np.hstack([np.repeat('Reading', len(predicted_df)/2),np.repeat('Maths', len(predicted_df)/2)])\n",
    "predicted_df['attack_type'] = np.hstack([np.hstack([np.repeat('random', (len(predicted_df)/2)/3), \n",
    "            np.repeat('rich_club', (len(predicted_df)/2)/3), \n",
    "            np.repeat('peripheral', (len(predicted_df)/2)/3)]),\n",
    "            np.hstack([np.repeat('random', (len(predicted_df)/2)/3), \n",
    "            np.repeat('rich_club', (len(predicted_df)/2)/3), \n",
    "            np.repeat('peripheral', (len(predicted_df)/2)/3)])])\n",
    "predicted_df['nodes_missing'] = np.hstack([np.hstack([range(1,maximum), range(1,maximum), range(1,maximum)]),\n",
    "                                           np.hstack([range(1,maximum), range(1,maximum), range(1,maximum)])])"
   ]
  },
  {
   "cell_type": "code",
   "execution_count": 339,
   "metadata": {
    "collapsed": false
   },
   "outputs": [
    {
     "data": {
      "image/png": "[encoded data removed]",
      "text/plain": [
       "<matplotlib.figure.Figure at 0x7f5278074910>"
      ]
     },
     "metadata": {},
     "output_type": "display_data"
    }
   ],
   "source": [
    "fig = plt.figure(figsize=(one_half_column,one_half_column), dpi=300, tight_layout=True, facecolor='white', frameon=True)\n",
    "counter = 0\n",
    "\n",
    "for measure in ['average_clustering', 'characteristic_path_length']:\n",
    "    for outcome in ['Maths', 'Reading']:\n",
    "        plt.subplot(2,2,counter+1)\n",
    "        plt.plot(predicted_df[(predicted_df['attack_type'] == 'random') & (predicted_df['outcome'] == outcome)]['nodes_missing'], \n",
    "                 predicted_df[(predicted_df['attack_type'] == 'random') & (predicted_df['outcome'] == outcome)][measure], '-o')\n",
    "        plt.plot(predicted_df[(predicted_df['attack_type'] == 'rich_club') & (predicted_df['outcome'] == outcome)]['nodes_missing'], \n",
    "                 predicted_df[(predicted_df['attack_type'] == 'rich_club') & (predicted_df['outcome'] == outcome)][measure], '-o')\n",
    "        plt.plot(predicted_df[(predicted_df['attack_type'] == 'peripheral') & (predicted_df['outcome'] == outcome)]['nodes_missing'], \n",
    "                 predicted_df[(predicted_df['attack_type'] == 'peripheral') & (predicted_df['outcome'] == outcome)][measure], '-o')\n",
    "        plt.xlabel('Number of knocked-down nodes')\n",
    "        if counter < 2:\n",
    "            plt.title(r'$C_{G}$')\n",
    "        else:\n",
    "            plt.title(r'$L_{G}$')\n",
    "        if counter == 5:\n",
    "            plt.legend(['Random attack','Rich club attack', 'Peripheral attack'], loc='best')\n",
    "        plt.ylabel(outcome)\n",
    "        ax = fig.gca()\n",
    "        ax.spines['top'].set_visible(False)\n",
    "        ax.spines['right'].set_visible(False)\n",
    "        ax.xaxis.set_ticks_position('bottom')\n",
    "        ax.yaxis.set_ticks_position('left')\n",
    "        counter += 1\n",
    "        \n",
    "plt.savefig(outpath + 'Attack_outcome_S2.png', dpi=300)"
   ]
  },
  {
   "cell_type": "markdown",
   "metadata": {},
   "source": [
    "## Analysis of developmental effects"
   ]
  },
  {
   "cell_type": "markdown",
   "metadata": {},
   "source": [
    "First, the direct relationships between age and Maths/Reading performance, and age and $C_{G}$ and $L_{G}$ are assessed"
   ]
  },
  {
   "cell_type": "code",
   "execution_count": 353,
   "metadata": {
    "collapsed": false
   },
   "outputs": [
    {
     "data": {
      "image/png": "[encoded data removed]",
      "text/plain": [
       "<matplotlib.figure.Figure at 0x7f6e06625bd0>"
      ]
     },
     "metadata": {},
     "output_type": "display_data"
    }
   ],
   "source": [
    "fig = plt.figure(figsize=(one_half_column,one_half_column), dpi=300, tight_layout=True, facecolor='white', frameon=True)\n",
    "legends = ('Maths','Reading',r'$C_{G}$',r'$L_{G}$')\n",
    "counter = 0\n",
    "\n",
    "for measure in ['Maths','Reading','average_clustering','characteristic_path_length']:\n",
    "    plt.subplot(2,2,counter+1)\n",
    "    sns.regplot(df_scaled['age'].values, \n",
    "                df_scaled[measure],\n",
    "                ci=95, \n",
    "                robust=True)\n",
    "    plt.xlabel('age [z-score]')\n",
    "    plt.ylabel(legends[counter])\n",
    "    ax = fig.gca()\n",
    "    ax.spines['top'].set_visible(False)\n",
    "    ax.spines['right'].set_visible(False)\n",
    "    ax.xaxis.set_ticks_position('bottom')\n",
    "    ax.yaxis.set_ticks_position('left')\n",
    "    counter += 1"
   ]
  },
  {
   "cell_type": "markdown",
   "metadata": {},
   "source": [
    "#### Linear models:"
   ]
  },
  {
   "cell_type": "markdown",
   "metadata": {},
   "source": [
    "Maths and Reading scores predicted by age: $Y_{Maths/Reading} = \\beta_{age}X_{age} + \\beta_{Intercept} + \\epsilon$"
   ]
  },
  {
   "cell_type": "code",
   "execution_count": 355,
   "metadata": {
    "collapsed": false
   },
   "outputs": [
    {
     "name": "stdout",
     "output_type": "stream",
     "text": [
      "Effect of age on Maths: beta=0.7 p=0.0\n",
      "Effect of age on Reading: beta=0.69 p=0.0\n"
     ]
    }
   ],
   "source": [
    "print('Effect of age on Maths: beta=' +\n",
    "    str(round(ols('Maths ~ age', data=df_scaled).fit().params['age'],2)) +\n",
    "    ' p=' + \n",
    "    str(round(ols('Maths ~ age', data=df_scaled).fit().pvalues['age'],3))\n",
    "      )\n",
    "\n",
    "print('Effect of age on Reading: beta=' +\n",
    "    str(round(ols('Reading ~ age', data=df_scaled).fit().params['age'],2)) +\n",
    "    ' p=' + \n",
    "    str(round(ols('Reading ~ age', data=df_scaled).fit().pvalues['age'],3))\n",
    "      )"
   ]
  },
  {
   "cell_type": "markdown",
   "metadata": {},
   "source": [
    "$C_{G}$ and $L_{G}$ predicted by age: $Y_{C_{G}/L_{G}} = \\beta_{age}X_{age} + \\beta_{ICV}X_{ICV} + \\beta_{Movement}X_{Movement} + \\beta_{D_{G}}X_{D_{G}} + \\beta_{Intercept} + \\epsilon$"
   ]
  },
  {
   "cell_type": "code",
   "execution_count": 358,
   "metadata": {
    "collapsed": false
   },
   "outputs": [
    {
     "name": "stdout",
     "output_type": "stream",
     "text": [
      "Effect of age on $C_{G}$: beta=0.28 p=0.013\n",
      "Effect of age on $L_{G}$: beta=-0.4 p=0.0\n"
     ]
    }
   ],
   "source": [
    "print('Effect of age on $C_{G}$: beta=' +\n",
    "    str(round(ols('average_clustering ~ age + ICV + Displacement + graph_density', data=df_scaled).fit().params['age'],2)) +\n",
    "    ' p=' + \n",
    "    str(round(ols('average_clustering ~ age + ICV + Displacement + graph_density', data=df_scaled).fit().pvalues['age'],3))\n",
    "      )\n",
    "\n",
    "print('Effect of age on $L_{G}$: beta=' +\n",
    "    str(round(ols('characteristic_path_length ~ age + ICV + Displacement + graph_density', data=df_scaled).fit().params['age'],2)) +\n",
    "    ' p=' + \n",
    "    str(round(ols('characteristic_path_length ~ age + ICV + Displacement + graph_density', data=df_scaled).fit().pvalues['age'],3))\n",
    "      )"
   ]
  },
  {
   "cell_type": "markdown",
   "metadata": {},
   "source": [
    "**Conclusion**: Age strongly predicts improvements in behavioural scores as well as increases in $C_{G}$ and decreases in $L_{G}$"
   ]
  },
  {
   "cell_type": "markdown",
   "metadata": {},
   "source": [
    "### Influence of rich club and peripheral nodes"
   ]
  },
  {
   "cell_type": "code",
   "execution_count": 113,
   "metadata": {
    "collapsed": false
   },
   "outputs": [],
   "source": [
    "w = FloatProgress(value=0, min=0, max=100, step=0.1, description='Progress:')\n",
    "display(w)\n",
    "\n",
    "measures_df = pd.DataFrame()\n",
    "average_clusterings = list()\n",
    "characteristic_path_lengths = list()\n",
    "graph_densities = list()\n",
    "\n",
    "RC_nodes = np.where(group_df['rich_club'] == True)[0]\n",
    "Peripheral_nodes = np.where(group_df['rich_club'] == False)[0]\n",
    "\n",
    "for counter in range(0,consensus_matrices.shape[2]):\n",
    "    network = consensus_matrices[...,counter]\n",
    "    measures_df.set_value(counter, 'richclub_clustering', np.mean(bct.clustering_coef_wu(network)[RC_nodes]))\n",
    "    measures_df.set_value(counter, 'peripheral_clustering', np.mean(bct.clustering_coef_wu(network)[Peripheral_nodes]))\n",
    "    \n",
    "    G = nx.from_numpy_matrix(network)\n",
    "    subG = G.subgraph(sorted(nx.connected_components(G), key = len, reverse=True)[0])\n",
    "    eccentricity = np.zeros(network.shape[0])\n",
    "    counter2 = 0\n",
    "    for entry in nx.eccentricity(subG).keys():\n",
    "        eccentricity[entry] = nx.eccentricity(subG).values()[counter2]\n",
    "        counter2 += 1\n",
    "        \n",
    "    measures_df.set_value(counter, 'richclub_eccentricity', np.mean(eccentricity[RC_nodes]))\n",
    "    measures_df.set_value(counter, 'peripheral_eccentricity', np.mean(eccentricity[Peripheral_nodes]))\n",
    "    w.value = 100*(float(counter)/(consensus_matrices.shape[2]-1))\n",
    "    \n",
    "# Scaling to mean and unit variance\n",
    "scaler = StandardScaler()\n",
    "measures_df = pd.DataFrame(scaler.fit_transform(measures_df), \n",
    "                         columns=measures_df.columns)\n",
    "measures_df.index = df.index\n",
    "\n",
    "# Adding other regressors\n",
    "measures_df['age'] = df_scaled['age']\n",
    "measures_df['ICV'] = df_scaled['ICV']\n",
    "measures_df['graph_density'] = df_scaled['graph_density']\n",
    "measures_df['Displacement'] = df_scaled['Displacement']\n",
    "\n",
    "w.close()"
   ]
  },
  {
   "cell_type": "code",
   "execution_count": 180,
   "metadata": {
    "collapsed": false
   },
   "outputs": [
    {
     "data": {
      "image/png": "[encoded data removed]",
      "text/plain": [
       "<matplotlib.figure.Figure at 0x7f527f22d1d0>"
      ]
     },
     "metadata": {},
     "output_type": "display_data"
    }
   ],
   "source": [
    "fig = plt.figure(figsize=(one_half_column,one_half_column), dpi=300, tight_layout=True, facecolor='white', frameon=True)\n",
    "legends = ('$C_{rich club}$','$C_{periphery}$','$L_{rich club}$','$L_{periphery}$')\n",
    "counter = 0\n",
    "\n",
    "for measure in ['richclub_clustering','peripheral_clustering','richclub_eccentricity','peripheral_eccentricity']:\n",
    "    plt.subplot(2,2,counter+1)\n",
    "    sns.regplot(df_scaled['age'].values, \n",
    "                measures_df[measure],\n",
    "                ci=95, \n",
    "                robust=False)\n",
    "    plt.xlabel('age [z-score]')\n",
    "    plt.ylabel(legends[counter])\n",
    "    ax = fig.gca()\n",
    "    ax.spines['top'].set_visible(False)\n",
    "    ax.spines['right'].set_visible(False)\n",
    "    ax.xaxis.set_ticks_position('bottom')\n",
    "    ax.yaxis.set_ticks_position('left')\n",
    "    counter += 1"
   ]
  },
  {
   "cell_type": "markdown",
   "metadata": {},
   "source": [
    "Regression models to establish the relationship between age and graph measures for rich club and periperhal nodes"
   ]
  },
  {
   "cell_type": "code",
   "execution_count": 181,
   "metadata": {
    "collapsed": false
   },
   "outputs": [
    {
     "name": "stdout",
     "output_type": "stream",
     "text": [
      "Effect of age on rich club clustering: beta=0.46 p=0.001\n",
      "Effect of age on peripheral clustering: beta=0.35 p=0.025\n",
      "Effect of age on rich club eccentricity: beta=-0.02 p=0.891\n",
      "Effect of age on peripheral eccentricity: beta=0.23 p=0.093\n"
     ]
    }
   ],
   "source": [
    "print('Effect of age on rich club clustering: beta=' +\n",
    "    str(round(ols('age ~ richclub_clustering + ICV + Displacement + graph_density', data=measures_df).fit().params['richclub_clustering'], 2)) +\n",
    "    ' p=' + \n",
    "    str(round(ols('age ~ richclub_clustering + ICV + Displacement + graph_density', data=measures_df).fit().pvalues['richclub_clustering'], 3)))\n",
    "\n",
    "print('Effect of age on peripheral clustering: beta=' +\n",
    "    str(round(ols('age ~ peripheral_clustering + ICV + Displacement + graph_density', data=measures_df).fit().params['peripheral_clustering'], 2)) +\n",
    "    ' p=' + \n",
    "    str(round(ols('age ~ peripheral_clustering + ICV + Displacement + graph_density', data=measures_df).fit().pvalues['peripheral_clustering'], 3)))"
   ]
  },
  {
   "cell_type": "markdown",
   "metadata": {
    "collapsed": true
   },
   "source": [
    "## Comparing results to scrambled networks"
   ]
  },
  {
   "cell_type": "markdown",
   "metadata": {},
   "source": [
    "run nodes up to 'getting graph measures' again, then proceed with the next cell"
   ]
  },
  {
   "cell_type": "code",
   "execution_count": 182,
   "metadata": {
    "collapsed": false
   },
   "outputs": [],
   "source": [
    "# Setting up the progress bar\n",
    "w = FloatProgress(value=0, min=0, max=100, step=0.1, description='Progress:')\n",
    "display(w)\n",
    "counter = 0\n",
    "random_degree = list()\n",
    "\n",
    "for i in range(0, consensus_matrices.shape[2]):\n",
    "    data = consensus_matrices[...,i]\n",
    "    subject = subjects[i]\n",
    "        \n",
    "    random_charpaths = list()\n",
    "    random_clustcoefs = list()\n",
    "    random_density = list() \n",
    "    random_strength = list()\n",
    "    \n",
    "    random_degrees = list()\n",
    "    observed_degree = list()\n",
    "    \n",
    "    for i in range(0,20):\n",
    "        random_data = data[np.random.permutation(data.shape[0])][np.random.permutation(data.shape[0])]\n",
    "        random_charpaths.append(bct.charpath(bct.distance_wei(bct.weight_conversion(random_data, 'lengths'))[0])[0])\n",
    "        random_clustcoefs.append(np.mean(bct.clustering_coef_wu(random_data)[np.isinf(bct.clustering_coef_wu(random_data)) == False]))\n",
    "        random_density.append(bct.density_und(random_data)[0])\n",
    "        random_strength.append(bct.strengths_und(random_data))\n",
    "        random_degrees.append(sorted(bct.degrees_und(random_data), reverse=True))\n",
    "        \n",
    "    df.set_value(subject, 'random_charpath', np.mean(random_charpaths))\n",
    "    df.set_value(subject, 'random_clustcoef', np.mean(random_clustcoefs))\n",
    "    df.set_value(subject, 'random_density', np.mean(random_density))\n",
    "    df.set_value(subject, 'random_strength', np.mean(random_strength))\n",
    "    \n",
    "    random_degree.append(np.mean(np.asarray(random_degrees),0))\n",
    "    observed_degree.append(sorted(bct.degrees_und(data), reverse=True))\n",
    "    \n",
    "    counter += 1\n",
    "    w.value = 100*(float(counter)/len(in_files))\n",
    "    \n",
    "w.close()"
   ]
  },
  {
   "cell_type": "code",
   "execution_count": 167,
   "metadata": {
    "collapsed": false,
    "scrolled": true
   },
   "outputs": [],
   "source": [
    "scaler = StandardScaler()\n",
    "df_scaled = pd.DataFrame(scaler.fit_transform(df[['age', 'Maths_std','Reading_std', 'Maths', 'Reading', 'ICV', 'Displacement', 'random_charpath', 'random_clustcoef','random_density']]), \n",
    "                         columns=['age', 'Maths_std','Reading_std', 'Maths', 'Reading', 'ICV', 'Displacement', 'random_charpath', 'random_clustcoef','random_density'])\n",
    "df_scaled['Gender'] = df['Gender'].values\n",
    "df_scaled.index = df.index"
   ]
  },
  {
   "cell_type": "code",
   "execution_count": 168,
   "metadata": {
    "collapsed": false
   },
   "outputs": [
    {
     "name": "stdout",
     "output_type": "stream",
     "text": [
      "Effect of average clustering coefficient on Reading: beta=0.02 p=0.885\n"
     ]
    }
   ],
   "source": [
    "print('Effect of average clustering coefficient on Reading: beta=' +\n",
    "    str(round(ols('Reading ~ random_clustcoef + ICV + Displacement + random_density', data=df_scaled).fit().params['average_clustering'],2)) +\n",
    "    ' p=' + \n",
    "    str(round(ols('Reading ~ random_clustcoef + ICV + Displacement + random_density', data=df_scaled).fit().pvalues['average_clustering'],3))\n",
    "      )"
   ]
  },
  {
   "cell_type": "code",
   "execution_count": 169,
   "metadata": {
    "collapsed": false
   },
   "outputs": [
    {
     "name": "stdout",
     "output_type": "stream",
     "text": [
      "Effect of characteristic path length on Reading: beta=-0.54 p=0.0\n"
     ]
    }
   ],
   "source": [
    "print('Effect of characteristic path length on Reading: beta=' +\n",
    "    str(round(ols('Reading ~ random_charpath + ICV + Displacement + random_density', data=df_scaled).fit().params['characteristic_path_length'],2)) +\n",
    "    ' p=' + \n",
    "    str(round(ols('Reading ~ random_charpath + ICV + Displacement + random_density', data=df_scaled).fit().pvalues['characteristic_path_length'],3))\n",
    "      )"
   ]
  },
  {
   "cell_type": "code",
   "execution_count": 170,
   "metadata": {
    "collapsed": false
   },
   "outputs": [
    {
     "name": "stdout",
     "output_type": "stream",
     "text": [
      "Effect of average clustering coefficient on Maths: beta=0.06 p=0.696\n"
     ]
    }
   ],
   "source": [
    "print('Effect of average clustering coefficient on Maths: beta=' +\n",
    "    str(round(ols('Maths ~ random_clustcoef + ICV + Displacement + random_density', data=df_scaled).fit().params['average_clustering'],2)) +\n",
    "    ' p=' + \n",
    "    str(round(ols('Maths ~ random_clustcoef + ICV + Displacement + random_density', data=df_scaled).fit().pvalues['average_clustering'],3))\n",
    "      )"
   ]
  },
  {
   "cell_type": "code",
   "execution_count": 171,
   "metadata": {
    "collapsed": false
   },
   "outputs": [
    {
     "name": "stdout",
     "output_type": "stream",
     "text": [
      "Effect of average characteristic path length on Maths: beta=-0.56 p=0.0\n"
     ]
    }
   ],
   "source": [
    "print('Effect of average characteristic path length on Maths: beta=' +\n",
    "    str(round(ols('Maths ~ random_charpath + ICV + Displacement + random_density', data=df_scaled).fit().params['characteristic_path_length'],2)) +\n",
    "    ' p=' + \n",
    "    str(round(ols('Maths ~ random_charpath + ICV + Displacement + random_density', data=df_scaled).fit().pvalues['characteristic_path_length'],3))\n",
    "      )"
   ]
  },
  {
   "cell_type": "code",
   "execution_count": 351,
   "metadata": {
    "collapsed": false
   },
   "outputs": [
    {
     "data": {
      "text/plain": [
       "(0.67814881093662083, 2.4206088074376332e-08)"
      ]
     },
     "execution_count": 351,
     "metadata": {},
     "output_type": "execute_result"
    }
   ],
   "source": [
    "pearsonr(df_scaled['age'], df_scaled['Maths'])"
   ]
  },
  {
   "cell_type": "code",
   "execution_count": 389,
   "metadata": {
    "collapsed": false
   },
   "outputs": [
    {
     "name": "stdout",
     "output_type": "stream",
     "text": [
      "Maths\n",
      "average_clustering\n",
      "Original data: mean=81.68, SE=0.591\n",
      "Controlled data: mean=73.94, SE=0.718\n",
      "t-test: t=8.33, p=0.0\n",
      "Maths\n",
      "characteristic_path_length\n",
      "Original data: mean=82.86, SE=0.619\n",
      "Controlled data: mean=70.69, SE=0.873\n",
      "t-test: t=11.37, p=0.0\n",
      "Reading\n",
      "average_clustering\n",
      "Original data: mean=83.75, SE=0.452\n",
      "Controlled data: mean=77.66, SE=0.531\n",
      "t-test: t=8.74, p=0.0\n",
      "Reading\n",
      "characteristic_path_length\n",
      "Original data: mean=81.94, SE=0.498\n",
      "Controlled data: mean=70.56, SE=0.675\n",
      "t-test: t=13.58, p=0.0\n"
     ]
    }
   ],
   "source": [
    "df_bootstrap = pd.DataFrame()\n",
    "for outcome in ['Maths', 'Reading']:\n",
    "    for graph_measure in ['average_clustering', 'characteristic_path_length']:\n",
    "        \n",
    "        for i in range(0,100):\n",
    "            random_sample = np.random.permutation(df_scaled.shape[0])[0:25]\n",
    "            df_bootstrap.set_value(i, 'controlled', sqrt(pearsonr(df_scaled['age'][random_sample], ols(outcome + ' ~ ' + graph_measure, data=df_scaled.iloc[random_sample]).fit().resid)[0]))\n",
    "            df_bootstrap.set_value(i, 'original', sqrt(pearsonr(df_scaled['age'][random_sample], df_scaled[outcome][random_sample])[0]))\n",
    "\n",
    "        print(outcome)\n",
    "        print(graph_measure)\n",
    "        print('Original data: mean=' + str(round(100*np.mean(df_bootstrap['original'].values), 2)) + ', SE=' + str(round(100*stats.sem(df_bootstrap['original'].values), 3)))\n",
    "        print('Controlled data: mean=' + str(round(100*np.mean(df_bootstrap['controlled'].values), 2)) + ', SE=' + str(round(100*stats.sem(df_bootstrap['controlled'].values), 3)))\n",
    "        print('t-test: t=' + str(round(ttest_ind(df_bootstrap['original'].values, df_bootstrap['controlled'].values)[0],2)) + ', p=' + str(round(ttest_ind(df_bootstrap['original'].values, df_bootstrap['controlled'].values)[1],3))) "
   ]
  },
  {
   "cell_type": "markdown",
   "metadata": {
    "collapsed": true
   },
   "source": [
    "## Comparison analysis with TBSS"
   ]
  },
  {
   "cell_type": "code",
   "execution_count": null,
   "metadata": {
    "collapsed": true
   },
   "outputs": [],
   "source": [
    "def get_subject_behavioural_data(subject):\n",
    "    import json\n",
    "    behavioural = eval(open('/imaging/jb07/CALM/CALM_BIDS/' + subject + '/beh/' + subject + '_beh.txt', 'r').read().replace(\"NaN\",\"float('nan')\").replace(\"null\",\"float('nan')\"))\n",
    "    behavioural.update(eval(open('/imaging/jb07/CALM/CALM_BIDS/' + subject + '/' + subject + '_demographics.txt', 'r').read().replace(\"NaN\",\"float('nan')\").replace(\"null\",\"float('nan')\")))\n",
    "\n",
    "    return behavioural"
   ]
  },
  {
   "cell_type": "code",
   "execution_count": null,
   "metadata": {
    "collapsed": true
   },
   "outputs": [],
   "source": [
    "def get_behavioural_data():\n",
    "    w = FloatProgress(value=0, min=0, max=100, step=0.1, description='Progress:')\n",
    "    display(w)\n",
    "    counter = 0\n",
    "\n",
    "    folder = '/imaging/jb07/CALM/DWI/FA_connectome/'\n",
    "    df = pd.DataFrame()\n",
    "    in_files = [folder + subfolder + '/calc_matrix/coreg_tracks_FA_matrix.txt' for subfolder in os.listdir(folder) if os.path.isfile(folder + subfolder + '/calc_matrix/coreg_tracks_FA_matrix.txt')]\n",
    "    networks = list()\n",
    "    subjects = list()\n",
    "\n",
    "    # Getting all the datab\n",
    "    for subfolder in os.listdir(folder):\n",
    "        if os.path.isfile(folder + subfolder + '/calc_matrix/coreg_tracks_FA_matrix.txt'):\n",
    "            subject = subfolder.split('_')[-1]\n",
    "\n",
    "            # Getting behavioural measures\n",
    "            df.set_value(subject,'age', get_subject_behavioural_data(subject)['Age_in_months'])\n",
    "            #df.set_value(subject, 'Gender', get_subject_behavioural_data(subject)['Gender'])\n",
    "            df.set_value(subject, 'Maths', get_subject_behavioural_data(subject)['WIAT_Numerical_raw'])\n",
    "            df.set_value(subject, 'Reading', get_subject_behavioural_data(subject)['WIAT_Reading_Raw'])\n",
    "\n",
    "            df.set_value(subject, 'Maths_std', get_subject_behavioural_data(subject)['WIAT_Numerical_Std'])\n",
    "            df.set_value(subject, 'Reading_std', get_subject_behavioural_data(subject)['WIAT_Reading_Std'])\n",
    "\n",
    "            # Getting graph measures\n",
    "            data = np.loadtxt(folder + subfolder + '/calc_matrix/coreg_tracks_FA_matrix.txt')\n",
    "            networks.append(data[1:,1:])\n",
    "            subjects.append(subject)\n",
    "\n",
    "            # Progress bar\n",
    "            counter += 1\n",
    "            w.value = 100*(float(counter)/len(in_files))\n",
    "    w.close()\n",
    "\n",
    "    df = df.replace(999,float('nan'))\n",
    "    df = df.dropna()\n",
    "\n",
    "    df['age'] = df['age'].apply(lambda x: pd.to_numeric(x, errors='coerce'))\n",
    "    df['Maths'] = df['Maths'].apply(lambda x: pd.to_numeric(x, errors='coerce'))\n",
    "    df['Reading'] = df['Reading'].apply(lambda x: pd.to_numeric(x, errors='coerce'))\n",
    "    df['Maths_std'] = df['Maths_std'].apply(lambda x: pd.to_numeric(x, errors='coerce'))\n",
    "    df['Reading_std'] = df['Reading_std'].apply(lambda x: pd.to_numeric(x, errors='coerce'))\n",
    "\n",
    "    ICV = pd.read_csv('/imaging/jb07/CALM/T1/volume_results.csv')\n",
    "    ICV['ICV'] = ICV['GM_volume_0'].values*ICV['GM_volume_2'] + ICV['WM_volume_0'].values*ICV['WM_volume_2']\n",
    "    ICV = ICV[['MRI.ID','ICV']].set_index(['MRI.ID'])\n",
    "    df = pd.merge(df, ICV, left_index=True, right_index=True)\n",
    "\n",
    "    movement = pd.read_csv('/imaging/jb07/CALM/DWI/motion_estimation/Displacements_Results.csv')\n",
    "    movement.columns = ['MRI.ID','Displacement']\n",
    "    df = pd.merge(df, movement.set_index(['MRI.ID']), left_index=True, right_index=True)\n",
    "    df = df[df['Displacement'] < 3]\n",
    "    \n",
    "    return df"
   ]
  },
  {
   "cell_type": "code",
   "execution_count": null,
   "metadata": {
    "collapsed": true
   },
   "outputs": [],
   "source": [
    "def copy_data(df, in_folder, out_folder):\n",
    "    import nipype.interfaces.mrtrix as mrt\n",
    "    from nipype.interfaces.fsl.maths import ApplyMask\n",
    "    from shutil import copyfile \n",
    "    \n",
    "    w = FloatProgress(value=0, min=0, max=100, step=0.1, description='Progress:')\n",
    "    display(w)\n",
    "    counter = 0\n",
    "    \n",
    "    for subject_id in df.index.values:\n",
    "        mrconvert = mrt.MRConvert()\n",
    "        mrconvert.inputs.in_file = in_folder + '_subject_id_' + subject_id + '/tensor2fa/' + subject_id + '_dwi_denoised_edc_reslice_tensor_FA.mif'\n",
    "        mrconvert.inputs.out_filename = out_folder + subject_id + '.nii'\n",
    "        mrconvert.run()\n",
    "\n",
    "        applymask = ApplyMask()\n",
    "        applymask.inputs.in_file = out_folder + subject_id + '.nii'\n",
    "        applymask.inputs.mask_file = in_folder + '_subject_id_' + subject_id + '/bet/' + subject_id + '_dwi_denoised_edc_reslice_b0_brain_mask.nii.gz'\n",
    "        applymask.inputs.out_file = out_folder + subject_id + '_FA.nii.gz'\n",
    "        applymask.run()\n",
    "\n",
    "        os.remove(out_folder + subject_id + '.nii')\n",
    "\n",
    "        copyfile(in_folder + '_subject_id_' + subject_id + '/bet/' + subject_id + '_dwi_denoised_edc_reslice_b0_brain_mask.nii.gz',\n",
    "                 out_folder + subject_id + '_FA_mask.nii.gz')\n",
    "        # Progress bar\n",
    "        counter += 1\n",
    "        w.value = 100*(float(counter)/len(df.index.values))\n",
    "        \n",
    "    w.close()\n",
    "    display.clear_output()"
   ]
  },
  {
   "cell_type": "code",
   "execution_count": 12,
   "metadata": {
    "collapsed": true
   },
   "outputs": [],
   "source": [
    "in_folder = '/imaging/jb07/CALM/DWI/FA_connectome/'\n",
    "out_folder = '/imaging/jb07/CALM/DWI/FA_connectome/group_comparison/'\n",
    "copy_data(get_behavioural_data(), in_folder, out_folder + 'FA/')"
   ]
  },
  {
   "cell_type": "markdown",
   "metadata": {},
   "source": [
    "Processing of FA images with the TBSS pipeline"
   ]
  },
  {
   "cell_type": "code",
   "execution_count": null,
   "metadata": {
    "collapsed": true
   },
   "outputs": [],
   "source": [
    "template = '/imaging/jb07/CALM/CALM_template.nii.gz'\n",
    "\n",
    "run_tbss = open(out_folder + 'run_tbss.sh', 'w')\n",
    "run_tbss.write('cd ' + out_folder + ' \\n')\n",
    "run_tbss.write('tbss_2_reg -t ' + template + ' \\n')\n",
    "run_tbss.write('tbss_3_postreg -S \\n')\n",
    "run_tbss.write('tbss_4_prestats 0.2')\n",
    "run_tbss.close()\n",
    "\n",
    "#call('qsub ' + out_folder + 'run_tbss.sh', shell=True)"
   ]
  },
  {
   "cell_type": "code",
   "execution_count": 3,
   "metadata": {
    "collapsed": true
   },
   "outputs": [],
   "source": [
    "tbss_folder = '/imaging/jb07/CALM/DWI/FA_connectome/group_comparison/'"
   ]
  },
  {
   "cell_type": "markdown",
   "metadata": {},
   "source": [
    "Creating the design and contrast matrix for FSL randomise"
   ]
  },
  {
   "cell_type": "code",
   "execution_count": null,
   "metadata": {
    "collapsed": true
   },
   "outputs": [],
   "source": [
    "def create_design_mat(df, filename):\n",
    "    design_mat = open(tbss_folder + '/stats/' + filename + '.mat', 'w')\n",
    "    design_mat.write('/NumWaves ' + str(np.shape(df)[1]) + '\\n')\n",
    "    design_mat.write('/NumPoints ' + str(np.shape(df)[0]) + '\\n')\n",
    "    design_mat.write('/Matrix \\n')\n",
    "    \n",
    "    for row in df.values:\n",
    "        string = ''\n",
    "        for value in row:\n",
    "           string = string + str(value) + ' '\n",
    "        design_mat.write(string + '\\n')\n",
    "        \n",
    "    design_mat.close()"
   ]
  },
  {
   "cell_type": "code",
   "execution_count": null,
   "metadata": {
    "collapsed": true
   },
   "outputs": [],
   "source": [
    "design = \"\"\"\n",
    "/ContrastName1 \"G1 > G2\"\n",
    "/ContrastName2 \"G1 < G2\"\n",
    "/NumWaves 2\n",
    "/NumContrasts 2\n",
    "/PPheights 1 1\n",
    "\n",
    "/Matrix\n",
    "1 -1\n",
    "-1 1\n",
    "\"\"\"\n",
    "\n",
    "design_file = open(tbss_folder + '/stats/design.con', 'w')\n",
    "design_file.write(design)\n",
    "design_file.close()"
   ]
  },
  {
   "cell_type": "code",
   "execution_count": null,
   "metadata": {
    "collapsed": true
   },
   "outputs": [],
   "source": [
    "def run_randomise(tbss_folder, df, filename):\n",
    "    create_design_mat(df, filename)\n",
    "\n",
    "    randomise_command = open(tbss_folder + '/stats/run_randomise.sh', 'w')\n",
    "    randomise_command.write('cd ' + tbss_folder + 'stats/ \\n')\n",
    "    randomise_command.write('randomise -i all_FA_skeletonised -o ' + filename + ' -m mean_FA_skeleton_mask -d '+ filename + '.mat -t design.con -n 500 --T2')\n",
    "    randomise_command.close()\n",
    "    call('qsub ' + tbss_folder + '/stats/run_randomise.sh', shell=True)"
   ]
  },
  {
   "cell_type": "markdown",
   "metadata": {},
   "source": [
    "Creating median splits"
   ]
  },
  {
   "cell_type": "code",
   "execution_count": null,
   "metadata": {
    "collapsed": true
   },
   "outputs": [],
   "source": [
    "df = get_behavioural_data()\n",
    "df['age_demeaned'] = df['age'].values - np.mean(df['age'].values)\n",
    "\n",
    "df['Maths_deficit'] = 1*(df['Maths_std'].values.astype('int') <= np.median(df['Maths_std'].values.astype('int')))\n",
    "df['Maths_typical'] = 1*(df['Maths_std'].values.astype('int') > np.median(df['Maths_std'].values.astype('int')))\n",
    "run_randomise(tbss_folder, df[['Maths_deficit', 'Maths_typical']].sort_index(), 'Maths_median_split_std')\n",
    "run_randomise(tbss_folder, df[['Maths_deficit', 'Maths_typical', 'age_demeaned']].sort_index(), 'Maths_median_split_std_woAge')\n",
    "\n",
    "df['Reading_deficit'] = 1*(df['Reading_std'].values.astype('int') <= np.median(df['Reading_std'].values.astype('int')))\n",
    "df['Reading_typical'] = 1*(df['Reading_std'].values.astype('int') > np.median(df['Reading_std'].values.astype('int')))\n",
    "run_randomise(tbss_folder, df[['Reading_deficit', 'Reading_typical']].sort_index(), 'Reading_median_split_std')\n",
    "run_randomise(tbss_folder, df[['Reading_deficit', 'Reading_typical', 'age_demeaned']].sort_index(), 'Reading_median_split_std_woAge')"
   ]
  },
  {
   "cell_type": "code",
   "execution_count": null,
   "metadata": {
    "collapsed": true
   },
   "outputs": [],
   "source": [
    "print('Number Maths deficit: ' + str(np.sum(df['Maths_deficit'].values)))\n",
    "print('Number Maths typical: ' + str(np.sum(df['Maths_typical'].values)))\n",
    "print('Number Reading deficit: ' + str(np.sum(df['Reading_deficit'].values)))\n",
    "print('Number Reading typical: ' + str(np.sum(df['Reading_typical'].values)))"
   ]
  },
  {
   "cell_type": "code",
   "execution_count": null,
   "metadata": {
    "collapsed": true
   },
   "outputs": [],
   "source": [
    "print('Maths deficit mean score: ' + str(round(np.mean(df[df['Maths_deficit'] == 1]['Maths_std']), 2)) + \n",
    "      ' SE: ' + str(round(sem(df[df['Maths_deficit'] == 1]['Maths_std']), 3)))\n",
    "\n",
    "print('Maths typical mean score: ' + str(round(np.mean(df[df['Maths_typical'] == 1]['Maths_std']), 2)) + \n",
    "      ' SE: ' + str(round(sem(df[df['Maths_typical'] == 1]['Maths_std']), 3)))\n",
    "\n",
    "print('Reading deficit mean score: ' + str(round(np.mean(df[df['Reading_deficit'] == 1]['Reading_std']), 2)) + \n",
    "      ' SE: ' + str(round(sem(df[df['Reading_deficit'] == 1]['Reading_std']), 3)))\n",
    "\n",
    "print('Reading typical mean score: ' + str(round(np.mean(df[df['Reading_typical'] == 1]['Reading_std']), 2)) + \n",
    "      ' SE: ' + str(round(sem(df[df['Reading_typical'] == 1]['Reading_std']), 3)))"
   ]
  },
  {
   "cell_type": "code",
   "execution_count": null,
   "metadata": {
    "collapsed": true
   },
   "outputs": [],
   "source": [
    "print('Maths deficit age: mean=' + str(round(np.mean(df[df['Maths_deficit'] == 1]['age'].values), 2)) + \n",
    "      ' SE=' + str(round(sem(df[df['Maths_deficit'] == 1]['age'].values), 3)))\n",
    "print('Maths typical age: mean=' + str(round(np.mean(df[df['Maths_typical'] == 1]['age'].values), 2)) + \n",
    "      ' SE=' + str(round(sem(df[df['Maths_typical'] == 1]['age'].values), 3)))\n",
    "print('Reading deficit age: mean=' + str(round(np.mean(df[df['Reading_deficit'] == 1]['age'].values), 2)) + \n",
    "      ' SE=' + str(round(sem(df[df['Reading_deficit'] == 1]['age'].values), 3)))\n",
    "print('Reading typical age: mean=' + str(round(np.mean(df[df['Reading_typical'] == 1]['age'].values), 2)) + \n",
    "      ' SE=' + str(round(sem(df[df['Reading_typical'] == 1]['age'].values), 3)))"
   ]
  },
  {
   "cell_type": "code",
   "execution_count": null,
   "metadata": {
    "collapsed": true
   },
   "outputs": [],
   "source": [
    "print('Maths group age comparison: t(' + str((len(df['Maths_deficit'].values) - 2)) + ')=' + \n",
    "str(round(ttest_ind(df[df['Maths_deficit'] == 1]['age'].values, df[df['Maths_typical'] == 1]['age'].values)[0],2)) + \n",
    "' p=' + str(round(ttest_ind(df[df['Maths_deficit'] == 1]['age'].values, df[df['Maths_typical'] == 1]['age'].values)[1],3)))\n",
    "\n",
    "print('Reading group age comparison: t(' + str((len(df['Reading_deficit'].values) - 2)) + ')=' + \n",
    "str(round(ttest_ind(df[df['Reading_deficit'] == 1]['age'].values, df[df['Reading_typical'] == 1]['age'].values)[0],2)) + \n",
    "' p=' + str(round(ttest_ind(df[df['Reading_deficit'] == 1]['age'].values, df[df['Reading_typical'] == 1]['age'].values)[1],3)))"
   ]
  },
  {
   "cell_type": "code",
   "execution_count": 20,
   "metadata": {
    "collapsed": false
   },
   "outputs": [],
   "source": [
    "filename = 'Maths_median_split_std'\n",
    "template = '/imaging/jb07/CALM/CALM_template.nii.gz'\n",
    "\n",
    "stat_image = tbss_folder + 'stats/' + filename + '_tfce_corrp_tstat1.nii.gz'\n",
    "plotting.plot_stat_map(stat_image, bg_img=template,\n",
    "                       title=\"low Maths < high Maths\",\n",
    "                       threshold = 0.8,\n",
    "                       cmap = 'Reds',\n",
    "                       vmax = 1,\n",
    "                       display_mode='z', cut_coords=[-5, 0, 5, 10, 15, 25],\n",
    "                       black_bg=False, dim=.5,\n",
    "                       output_file = out_folder + 'Maths_median_split_std1.png')\n",
    "\n",
    "stat_image = tbss_folder + 'stats/' + filename + '_tfce_corrp_tstat2.nii.gz'\n",
    "plotting.plot_stat_map(stat_image, bg_img=template,\n",
    "                       title=\"high Maths < low Maths\",\n",
    "                       threshold = 0.8,\n",
    "                       cmap = 'Reds',\n",
    "                       vmax = 1,\n",
    "                       display_mode='z', cut_coords=[-5, 0, 5, 10, 15, 25],\n",
    "                       black_bg=False, dim=.5,\n",
    "                       annotate = False)"
   ]
  },
  {
   "cell_type": "code",
   "execution_count": null,
   "metadata": {
    "collapsed": false
   },
   "outputs": [],
   "source": [
    "filename = 'Reading_median_split_std'\n",
    "stat_image = tbss_folder + 'stats/' + filename + '_tfce_corrp_tstat1.nii.gz'\n",
    "plotting.plot_stat_map(stat_image, bg_img=template,\n",
    "                       title=\"low Reading $<$ high Reading\",\n",
    "                       threshold = 0.95,\n",
    "                       cmap = 'Reds',\n",
    "                       vmax = 1,\n",
    "                       display_mode='z', cut_coords=[-5, 0, 5, 10, 15, 25],\n",
    "                       black_bg=False, dim=.5,\n",
    "                       annotate = False)\n",
    "\n",
    "stat_image = tbss_folder + 'stats/' + filename + '_tfce_corrp_tstat2.nii.gz'\n",
    "plotting.plot_stat_map(stat_image, bg_img=template,\n",
    "                       title=\"high Reading $<$ low Reading\",\n",
    "                       threshold = 0.95,\n",
    "                       cmap = 'Reds',\n",
    "                       vmax = 1,\n",
    "                       display_mode='z', cut_coords=[-5, 0, 5, 10, 15, 25],\n",
    "                       black_bg=False, dim=.5,\n",
    "                       annotate = False)"
   ]
  },
  {
   "cell_type": "code",
   "execution_count": null,
   "metadata": {
    "collapsed": true
   },
   "outputs": [],
   "source": []
  }
 ],
 "metadata": {
  "kernelspec": {
   "display_name": "Python 2",
   "language": "python",
   "name": "python2"
  },
  "language_info": {
   "codemirror_mode": {
    "name": "ipython",
    "version": 2
   },
   "file_extension": ".py",
   "mimetype": "text/x-python",
   "name": "python",
   "nbconvert_exporter": "python",
   "pygments_lexer": "ipython2",
   "version": "2.7.12"
  }
 },
 "nbformat": 4,
 "nbformat_minor": 0
}
